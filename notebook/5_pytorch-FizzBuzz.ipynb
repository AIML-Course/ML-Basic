{
 "cells": [
  {
   "cell_type": "markdown",
   "metadata": {},
   "source": [
    "## 使用一個神經網路解決 FizzBuzz 問題\n",
    "\n",
    "輸入一個數字：\n",
    " - 可以被 15 整除就回傳 FizzBuzz；\n",
    " - 可以被 3 整除就回傳 Fizz；\n",
    " - 被 5 整除就回傳 Buzz；\n",
    " - 都不能整除就回傳原本的數字\n",
    "\n"
   ]
  },
  {
   "cell_type": "markdown",
   "metadata": {},
   "source": [
    "## 用程式時做的話會長這樣"
   ]
  },
  {
   "cell_type": "code",
   "execution_count": 1,
   "metadata": {},
   "outputs": [
    {
     "name": "stdout",
     "output_type": "stream",
     "text": [
      "FizzBuzz\n",
      "Fizz\n",
      "Buzz\n"
     ]
    }
   ],
   "source": [
    "def fizz_buzz(num):\n",
    "    if num % 15 == 0:\n",
    "        return 'FizzBuzz'\n",
    "    elif num % 3 == 0:\n",
    "        return 'Fizz'\n",
    "    elif num % 5 == 0:\n",
    "        return 'Buzz'\n",
    "    else:\n",
    "        return str(num)\n",
    "    \n",
    "print(fizz_buzz(45))\n",
    "print(fizz_buzz(48))\n",
    "print(fizz_buzz(50))"
   ]
  },
  {
   "cell_type": "markdown",
   "metadata": {},
   "source": [
    "## 其實就是一個分類問題，讓程式容易解讀"
   ]
  },
  {
   "cell_type": "code",
   "execution_count": 7,
   "metadata": {},
   "outputs": [],
   "source": [
    "def fizz_buzz(num):\n",
    "    if num % 15 == 0:\n",
    "        return 0 # 'FizzBuzz'\n",
    "    elif num % 3 == 0:\n",
    "        return 1 # 'Fizz'\n",
    "    elif num % 5 == 0:\n",
    "        return 2 # 'Buzz'\n",
    "    else:\n",
    "        return 3 # ''"
   ]
  },
  {
   "cell_type": "markdown",
   "metadata": {},
   "source": [
    "## 來看看深度學習怎麼解決這皮毛問題"
   ]
  },
  {
   "cell_type": "code",
   "execution_count": 8,
   "metadata": {},
   "outputs": [],
   "source": [
    "import random\n",
    "import torch\n",
    "import torch.optim as optim\n",
    "import torch.nn as nn\n",
    "import torch.nn.functional as F\n",
    "from torch.autograd import Variable\n",
    "\n",
    "BATCH = 32\n",
    "DIGITS = 10\n",
    "EPOCH = 300\n",
    "DATASET_SIZE = 3000\n",
    "CLASSES = ['FizzBuzz', 'Fizz', 'Buzz', '']"
   ]
  },
  {
   "cell_type": "code",
   "execution_count": 19,
   "metadata": {},
   "outputs": [
    {
     "name": "stdout",
     "output_type": "stream",
     "text": [
      "Requirement already satisfied: torchsummary in /home/ec2-user/anaconda3/envs/pytorch_p36/lib/python3.6/site-packages (1.5.1)\n",
      "\u001b[31mfastai 1.0.55 requires nvidia-ml-py3, which is not installed.\u001b[0m\n",
      "\u001b[31mthinc 6.12.1 has requirement msgpack<0.6.0,>=0.5.6, but you'll have msgpack 0.6.0 which is incompatible.\u001b[0m\n",
      "\u001b[33mYou are using pip version 10.0.1, however version 19.3.1 is available.\n",
      "You should consider upgrading via the 'pip install --upgrade pip' command.\u001b[0m\n"
     ]
    }
   ],
   "source": [
    "!pip install torchsummary"
   ]
  },
  {
   "cell_type": "code",
   "execution_count": 20,
   "metadata": {},
   "outputs": [],
   "source": [
    "from torchsummary import summary"
   ]
  },
  {
   "cell_type": "markdown",
   "metadata": {},
   "source": [
    "## 深度學習很難嗎？其實網路結構就這幾行"
   ]
  },
  {
   "cell_type": "code",
   "execution_count": 18,
   "metadata": {},
   "outputs": [],
   "source": [
    "class FizzBuzz(nn.Module):\n",
    "    def __init__(self, in_channel, out_channel):\n",
    "        super(FizzBuzz, self).__init__()\n",
    "        self.layers = nn.Sequential(\n",
    "            nn.Linear(in_channel, 1024), ## 全連接層\n",
    "            nn.Dropout(0.5),             ## Dropout 避免 overfitting\n",
    "            nn.ReLU(),                   ## Activation 函式\n",
    "            nn.Linear(1024, 1024),       ## 全連接層\n",
    "            nn.Dropout(0.5),             ## Dropout 避免 overfitting\n",
    "            nn.ReLU(),                   ## Activation 函式\n",
    "            nn.Linear(1024, out_channel) ## 全連接層，以此例來說 out_channel 應該為 4\n",
    "        )\n",
    "\n",
    "    def forward(self, x):\n",
    "        x = self.layers(x)\n",
    "        return x"
   ]
  },
  {
   "cell_type": "markdown",
   "metadata": {},
   "source": [
    "## 可參考 lost 函式清單\n",
    " - https://pytorch.org/docs/stable/nn.functional.html#loss-functions"
   ]
  },
  {
   "cell_type": "code",
   "execution_count": 10,
   "metadata": {},
   "outputs": [],
   "source": [
    "def training(model, optimizer, training_data):\n",
    "    model.train()\n",
    "\n",
    "    for data, label in training_data:\n",
    "        data = Variable(torch.FloatTensor(data))\n",
    "        label = Variable(torch.LongTensor(label))\n",
    "\n",
    "        out = model(data)\n",
    "        optimizer.zero_grad()\n",
    "        classification_loss = F.cross_entropy(out, label) ## 常用分類問題的 loss 函式\n",
    "        classification_loss.backward()\n",
    "        optimizer.step()"
   ]
  },
  {
   "cell_type": "code",
   "execution_count": 21,
   "metadata": {},
   "outputs": [],
   "source": [
    "m = FizzBuzz(DIGITS, 4)"
   ]
  },
  {
   "cell_type": "code",
   "execution_count": 22,
   "metadata": {},
   "outputs": [
    {
     "name": "stdout",
     "output_type": "stream",
     "text": [
      "----------------------------------------------------------------\n",
      "        Layer (type)               Output Shape         Param #\n",
      "================================================================\n",
      "            Linear-1             [-1, 13, 1024]          11,264\n",
      "           Dropout-2             [-1, 13, 1024]               0\n",
      "              ReLU-3             [-1, 13, 1024]               0\n",
      "            Linear-4             [-1, 13, 1024]       1,049,600\n",
      "           Dropout-5             [-1, 13, 1024]               0\n",
      "              ReLU-6             [-1, 13, 1024]               0\n",
      "            Linear-7                [-1, 13, 4]           4,100\n",
      "================================================================\n",
      "Total params: 1,064,964\n",
      "Trainable params: 1,064,964\n",
      "Non-trainable params: 0\n",
      "----------------------------------------------------------------\n",
      "Input size (MB): 0.00\n",
      "Forward/backward pass size (MB): 0.61\n",
      "Params size (MB): 4.06\n",
      "Estimated Total Size (MB): 4.67\n",
      "----------------------------------------------------------------\n"
     ]
    }
   ],
   "source": [
    "summary(m, (13, 10))"
   ]
  },
  {
   "cell_type": "code",
   "execution_count": 11,
   "metadata": {},
   "outputs": [],
   "source": [
    "def testing(model, data):\n",
    "    model.eval()\n",
    "    loss = []\n",
    "    correct = 0\n",
    "\n",
    "    for x, y in data:\n",
    "        x = Variable(torch.FloatTensor(x))\n",
    "        y = Variable(torch.LongTensor(y))\n",
    "\n",
    "        out = model(x)\n",
    "        loss += [F.cross_entropy(out, y).data.item()]\n",
    "        pred = out.data.max(1, keepdim=True)[1]\n",
    "        correct += pred.eq(y.data.view_as(pred)).sum()\n",
    "\n",
    "    avg_loss = sum(loss) / len(loss)\n",
    "\n",
    "    return {\n",
    "        'accuracy': 100.0 * correct/(len(loss)*BATCH),\n",
    "        'avg_loss': avg_loss\n",
    "    }"
   ]
  },
  {
   "cell_type": "code",
   "execution_count": 12,
   "metadata": {},
   "outputs": [],
   "source": [
    "def encoder(num):\n",
    "    return list(map(lambda x: int(x), ('{:0' + str(DIGITS) + 'b}').format(num))) \n",
    "\n",
    "def make_data(num_of_data, batch_size):\n",
    "    xs = []\n",
    "    ys = []\n",
    "    for _ in range(num_of_data):\n",
    "        x = random.randint(0, 2**DIGITS-1)\n",
    "        xs += [encoder(x)]\n",
    "        ys += [fizz_buzz(x)]\n",
    "\n",
    "    data = []\n",
    "    for b in range(num_of_data//batch_size):\n",
    "        xxs = xs[b*batch_size:(b+1)*batch_size]\n",
    "        yys = ys[b*batch_size:(b+1)*batch_size]\n",
    "        data += [(xxs, yys)]\n",
    "        \n",
    "    return data\n"
   ]
  },
  {
   "cell_type": "code",
   "execution_count": 24,
   "metadata": {},
   "outputs": [],
   "source": [
    "training_data = make_data(DATASET_SIZE, BATCH)\n",
    "testing_data = make_data(100, BATCH)"
   ]
  },
  {
   "cell_type": "code",
   "execution_count": 35,
   "metadata": {},
   "outputs": [
    {
     "name": "stdout",
     "output_type": "stream",
     "text": [
      "==== 開始訓練 ====\n",
      "Epoch 300/300, Loss: 0.00130, Accuracy: 100.00%\r"
     ]
    }
   ],
   "source": [
    "optimizer = optim.SGD(m.parameters(), lr=0.02, momentum=0.9)\n",
    "\n",
    "print('==== 開始訓練 ====')\n",
    "for epoch in range(1, EPOCH + 1):\n",
    "    training(m, optimizer, training_data)\n",
    "    res = testing(m, testing_data)\n",
    "    print('Epoch {}/{}, Loss: {:.5f}, Accuracy: {:.2f}%'.format(\n",
    "            epoch,\n",
    "            EPOCH,\n",
    "            res['avg_loss'],\n",
    "            res['accuracy'],\n",
    "        ), end='\\r')\n",
    "\n",
    "#print('\\n==== Inertactive Test ====')\n",
    "#print('[INFO] Enter a digit smaller than {}. (\"q\" to quit)'.format(2**DIGITS))\n",
    "#interactive_test(m)"
   ]
  },
  {
   "cell_type": "markdown",
   "metadata": {},
   "source": [
    "## 即時測試"
   ]
  },
  {
   "cell_type": "code",
   "execution_count": 37,
   "metadata": {},
   "outputs": [],
   "source": [
    "def interactive_test(model):\n",
    "    while True:\n",
    "        num = input()\n",
    "        if num == 'q':\n",
    "            print('Bye~')\n",
    "            return\n",
    "        if int(num) >= 2**DIGITS:\n",
    "            print('請輸入一個小於 {} 的數字'.format(2**DIGITS))\n",
    "            continue\n",
    "\n",
    "        ans = fizz_buzz(int(num))\n",
    "        x = Variable(torch.FloatTensor([encoder(int(num))]))\n",
    "\n",
    "        predict = model(x).data.max(1, keepdim=True)[1]\n",
    "        print('預測為: {}, 答案為: {}'.format(CLASSES[predict[0][0]], CLASSES[ans]))"
   ]
  },
  {
   "cell_type": "code",
   "execution_count": 38,
   "metadata": {},
   "outputs": [
    {
     "name": "stdout",
     "output_type": "stream",
     "text": [
      "[INFO] 輸入一個小於 1024 的數字. (或輸入 \"q\" 離開)\n",
      "258\n",
      "Predict: Fizz, Real_Answer: Fizz\n",
      "33\n",
      "Predict: Fizz, Real_Answer: Fizz\n",
      "35\n",
      "Predict: Buzz, Real_Answer: Buzz\n",
      "q\n",
      "Bye~\n"
     ]
    }
   ],
   "source": [
    "print('[提示] 請輸入一個小於 {} 的數字. (或輸入 \"q\" 離開)'.format(2**DIGITS))\n",
    "interactive_test(m)"
   ]
  },
  {
   "cell_type": "code",
   "execution_count": null,
   "metadata": {},
   "outputs": [],
   "source": []
  }
 ],
 "metadata": {
  "kernelspec": {
   "display_name": "conda_pytorch_p36",
   "language": "python",
   "name": "conda_pytorch_p36"
  },
  "language_info": {
   "codemirror_mode": {
    "name": "ipython",
    "version": 3
   },
   "file_extension": ".py",
   "mimetype": "text/x-python",
   "name": "python",
   "nbconvert_exporter": "python",
   "pygments_lexer": "ipython3",
   "version": "3.6.5"
  }
 },
 "nbformat": 4,
 "nbformat_minor": 2
}
