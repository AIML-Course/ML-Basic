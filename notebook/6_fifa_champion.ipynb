{
 "cells": [
  {
   "cell_type": "code",
   "execution_count": 1,
   "metadata": {},
   "outputs": [
    {
     "name": "stdout",
     "output_type": "stream",
     "text": [
      "t1form,t1p0,t1p1,t1p2,t1p3,t1p4,t1p5,t1p6,t1p7,t1p8,t1p9,t1p10,t1p11,t1p12,t1p13,t2form,t2p0,t2p1,t2p2,t2p3,t2p4,t2p5,t2p6,t2p7,t2p8,t2p9,t2p10,t2p11,t2p12,t2p13,t1Score,t2Score,winner\r\n",
      "3-6-1,7.9,9.5,5.3,9.4,6.4,9.8,8.7,8.5,8.2,6.4,8.5,9.4,5.9,6.1,4-3-2-1,5.6,7,8.4,8.8,6.9,6.6,8.8,7.7,8.3,7.5,6.1,5.3,6.1,5.3,2,0,1\r\n",
      "4-4-2,5.1,5.7,5.3,9.1,6.9,8.4,7.6,9.8,6.3,9.4,8.7,6.7,8.6,7,4-4-2,6,9.9,7.9,7.2,5.6,7.5,9.1,7.9,9.6,6.6,9.9,8.8,7.8,9.9,0,3,2\r\n",
      "3-6-1,7.2,5.2,8.2,6.2,6.5,5.7,8.6,6.1,9.3,7.5,6.6,6.4,7.1,6.9,3-6-1,8.2,9,6.1,9.7,5.2,8,5.2,7.3,5.5,7.4,7.1,5.4,5.1,6.4,2,1,1\r\n",
      "4-3-2-1,7.4,7.4,5.2,7.9,5,7.6,8.5,8.9,8.7,7.4,7.6,8.4,7.7,5.5,3-4-3,5.1,9.1,5.8,5.8,9.9,9.1,9.4,7.5,7.6,6.4,9.7,7.9,8.2,5.5,2,0,1\r\n"
     ]
    }
   ],
   "source": [
    "!head -5 ./data/totalScor_1121.csv"
   ]
  },
  {
   "cell_type": "code",
   "execution_count": 2,
   "metadata": {},
   "outputs": [],
   "source": [
    "import numpy as np\n",
    "import pandas as pd\n",
    "from sklearn import preprocessing"
   ]
  },
  {
   "cell_type": "markdown",
   "metadata": {},
   "source": [
    "### Pre-processing : one-hot categoty columns"
   ]
  },
  {
   "cell_type": "code",
   "execution_count": 9,
   "metadata": {},
   "outputs": [],
   "source": [
    "df = pd.read_csv('./data/totalScor_1121.csv')\n",
    "\n",
    "df = pd.concat([df,pd.get_dummies(df[['t1form']],\n",
    "                                  prefix='t1form',dummy_na=True)], axis=1).drop(['t1form'],axis=1)\n",
    "df = pd.concat([df,pd.get_dummies(df[['t2form']],\n",
    "                                  prefix='t2form',dummy_na=True)], axis=1).drop(['t2form'],axis=1)\n",
    "\n",
    "df = df.drop(['t2form_nan','t1form_nan'],axis=1)"
   ]
  },
  {
   "cell_type": "markdown",
   "metadata": {},
   "source": [
    "### Standardization : numerical columns"
   ]
  },
  {
   "cell_type": "code",
   "execution_count": 10,
   "metadata": {},
   "outputs": [],
   "source": [
    "columns_to_norm = ['t1p0', 't1p1', 't1p2', 't1p3', 't1p4', 't1p5', 't1p6', 't1p7', 't1p8',\n",
    "                   't1p9', 't1p10', 't1p11', 't1p12', 't1p13', 't2p0', 't2p1', 't2p2',\n",
    "                   't2p11', 't2p12', 't2p13', 't1Score', 't2Score',\n",
    "                  ]"
   ]
  },
  {
   "cell_type": "code",
   "execution_count": 11,
   "metadata": {},
   "outputs": [],
   "source": [
    "df[columns_to_norm] = df[columns_to_norm].apply(lambda x:(x-x.mean()) / x.std())"
   ]
  },
  {
   "cell_type": "markdown",
   "metadata": {},
   "source": [
    "## Build Model"
   ]
  },
  {
   "cell_type": "code",
   "execution_count": 12,
   "metadata": {},
   "outputs": [],
   "source": [
    "from sklearn.linear_model import LogisticRegression\n",
    "from sklearn.neighbors import KNeighborsClassifier\n",
    "from sklearn.tree import DecisionTreeClassifier\n",
    "from sklearn.naive_bayes import GaussianNB\n",
    "from sklearn.cluster import KMeans\n",
    "from sklearn.svm import SVC\n",
    "from xgboost import XGBClassifier\n",
    "\n",
    "from sklearn import metrics\n",
    "from sklearn.model_selection import train_test_split\n",
    "from sklearn import datasets, model_selection\n",
    "from sklearn.decomposition import PCA"
   ]
  },
  {
   "cell_type": "code",
   "execution_count": 14,
   "metadata": {},
   "outputs": [],
   "source": [
    "df = df.sample(n=20000, weights='winner', random_state=1)"
   ]
  },
  {
   "cell_type": "code",
   "execution_count": 15,
   "metadata": {},
   "outputs": [
    {
     "data": {
      "text/plain": [
       "(20000, 53)"
      ]
     },
     "execution_count": 15,
     "metadata": {},
     "output_type": "execute_result"
    }
   ],
   "source": [
    "df.shape"
   ]
  },
  {
   "cell_type": "code",
   "execution_count": 16,
   "metadata": {},
   "outputs": [],
   "source": [
    "y = [1 if x == 1 else 0 for x in df['winner']] \n",
    "df = df.drop(['winner'],axis=1)\n",
    "X = df.values"
   ]
  },
  {
   "cell_type": "code",
   "execution_count": 17,
   "metadata": {},
   "outputs": [],
   "source": [
    "models = []\n",
    "#models.append(('LR', LogisticRegression(solver='liblinear', multi_class='ovr')))\n",
    "#models.append(('KNN', KNeighborsClassifier()))\n",
    "#models.append(('CART', DecisionTreeClassifier()))\n",
    "#models.append(('NB', GaussianNB()))\n",
    "models.append(('SVM', SVC(gamma='auto')))\n",
    "models.append(('xgboost', XGBClassifier()))"
   ]
  },
  {
   "cell_type": "code",
   "execution_count": 18,
   "metadata": {},
   "outputs": [],
   "source": [
    "X_train, X_test, y_train, y_test = \\\n",
    "    train_test_split(X, y, test_size=0.3)"
   ]
  },
  {
   "cell_type": "code",
   "execution_count": 19,
   "metadata": {},
   "outputs": [
    {
     "name": "stdout",
     "output_type": "stream",
     "text": [
      "SVM: 1.000000 (0.000000)\n",
      "xgboost: 1.000000 (0.000000)\n"
     ]
    }
   ],
   "source": [
    "predictor = {}\n",
    "for name, model in models:\n",
    "    kfold = model_selection.KFold(n_splits=5)\n",
    "    cv_results = model_selection.cross_val_score(model, X_train, y_train, cv=kfold, scoring='accuracy')\n",
    "    predictor[name] = model.fit(X_train, y_train)\n",
    "    print(\"%s: %f (%f)\" % (name, cv_results.mean(), cv_results.std()))"
   ]
  },
  {
   "cell_type": "code",
   "execution_count": null,
   "metadata": {},
   "outputs": [],
   "source": []
  }
 ],
 "metadata": {
  "kernelspec": {
   "display_name": "conda_python3",
   "language": "python",
   "name": "conda_python3"
  },
  "language_info": {
   "codemirror_mode": {
    "name": "ipython",
    "version": 3
   },
   "file_extension": ".py",
   "mimetype": "text/x-python",
   "name": "python",
   "nbconvert_exporter": "python",
   "pygments_lexer": "ipython3",
   "version": "3.6.5"
  }
 },
 "nbformat": 4,
 "nbformat_minor": 2
}
