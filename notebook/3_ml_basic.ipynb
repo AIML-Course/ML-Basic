{
 "cells": [
  {
   "cell_type": "markdown",
   "metadata": {},
   "source": [
    "## 基础 Python 介绍\n",
    "\n",
    "- 资料型态\n",
    "- 逻辑判断\n",
    "- 回圈\n",
    "- 范例：画个圣诞树\n",
    "- 范例：猜数字游戏\n",
    "- 小练习：读唐诗 数数字"
   ]
  },
  {
   "cell_type": "code",
   "execution_count": 1,
   "metadata": {},
   "outputs": [
    {
     "name": "stdout",
     "output_type": "stream",
     "text": [
      "变量 a 的型态是： <class 'int'>\n",
      "变量 b 的型态是： <class 'float'>\n",
      "变量 first_string 的型态是： <class 'str'>\n",
      "变量 flag 的型态是： <class 'bool'>\n"
     ]
    }
   ],
   "source": [
    "## 常用的基本型态\n",
    "\n",
    "a = 123\n",
    "print('变量 a 的型态是：', type(a))\n",
    "\n",
    "b = 10.0\n",
    "print('变量 b 的型态是：', type(b))\n",
    "\n",
    "\n",
    "first_string = 'Hello World'\n",
    "print('变量 first_string 的型态是：', type(first_string))\n",
    "\n",
    "flag = True\n",
    "print('变量 flag 的型态是：', type(flag))"
   ]
  },
  {
   "cell_type": "code",
   "execution_count": 2,
   "metadata": {},
   "outputs": [
    {
     "name": "stdout",
     "output_type": "stream",
     "text": [
      "7\n",
      "HelloWorld\n"
     ]
    }
   ],
   "source": [
    "## 数字的相加\n",
    "\n",
    "a = 2\n",
    "b = 5\n",
    "print(a + b)\n",
    "\n",
    "\n",
    "## 字符串的相加\n",
    "\n",
    "c = 'Hello'\n",
    "d = 'World'\n",
    "\n",
    "print(c + d)"
   ]
  },
  {
   "cell_type": "code",
   "execution_count": 3,
   "metadata": {},
   "outputs": [
    {
     "name": "stdout",
     "output_type": "stream",
     "text": [
      "a 乘上 b:  10\n",
      "a 除以 b:  0.4\n",
      "b 除以 a 的余数:  1\n",
      "a 的 b 次方:  32\n",
      "a 的 b 次方:  1.4142135623730951\n"
     ]
    }
   ],
   "source": [
    "print('a 乘上 b: ', a * b)\n",
    "print('a 除以 b: ', a / b)\n",
    "print('b 除以 a 的余数: ', b % a)\n",
    "print('a 的 b 次方: ', a ** b)\n",
    "print('a 的 b 次方: ', a ** 0.5)"
   ]
  },
  {
   "cell_type": "code",
   "execution_count": null,
   "metadata": {},
   "outputs": [],
   "source": [
    "## 猜猜看会发生什么事？\n",
    "\n",
    "\n",
    "a + c"
   ]
  },
  {
   "cell_type": "markdown",
   "metadata": {},
   "source": [
    "## 逻辑判断式\n",
    "\n",
    " > 还记得课堂上提到过，`rule base` 是机器学习的起手式吗？\n",
    " \n",
    " \n",
    "**来看看一个 `rule base` 的投资理财推荐服务**"
   ]
  },
  {
   "cell_type": "code",
   "execution_count": null,
   "metadata": {},
   "outputs": [],
   "source": [
    "# 多功能 if 、 else if 、 else 判斷\n",
    "\n",
    "deposit = int(input(\"请输入你的存款：\"))\n",
    "\n",
    "if deposit < 10000:\n",
    "    print(\"孩子，先努力再多存点吧！\")\n",
    "    \n",
    "elif deposit >= 10000 and deposit <= 50000:\n",
    "    print(\"可以开始尝试点零股投资\")\n",
    "\n",
    "elif deposit > 50000 and deposit < 100000:\n",
    "    print(\"可以考虑开始买股，但如果稳健些可以再多存点\")\n",
    "\n",
    "elif deposit >= 100000:\n",
    "    print(\"你可以直接买股了！\")\n",
    "        \n",
    "else:\n",
    "     print(\"例外处理\")"
   ]
  },
  {
   "cell_type": "markdown",
   "metadata": {},
   "source": [
    "## 回圈：循序的把事情完成\n",
    "\n",
    "\n",
    "* 举例来说，把 100 以内的数字做加总\n",
    "\n",
    "```\n",
    "total = 0\n",
    "\n",
    "for i in range(0, 100):\n",
    "    total = total + i\n",
    "```\n",
    "\n",
    "* 也可以用 while\n",
    " \n",
    "```\n",
    "total = 0\n",
    "i = 0\n",
    "\n",
    "while i < 100:\n",
    "    total = total + i\n",
    "    i += 1\n",
    "```\n",
    "\n",
    "**来看看一个 `计算每个人BMI值` 的健康数值计算机**"
   ]
  },
  {
   "cell_type": "code",
   "execution_count": 4,
   "metadata": {},
   "outputs": [
    {
     "name": "stdout",
     "output_type": "stream",
     "text": [
      "这位同学的身高是：166，体重是：62。所以BMI值就是：22.49963710262738\n",
      "这位同学的身高是：178，体重是：65。所以BMI值就是：20.515086478979924\n",
      "这位同学的身高是：152，体重是：50。所以BMI值就是：21.641274238227147\n",
      "这位同学的身高是：165，体重是：58。所以BMI值就是：21.30394857667585\n",
      "这位同学的身高是：187，体重是：82。所以BMI值就是：23.449340844748203\n",
      "这位同学的身高是：140，体重是：45。所以BMI值就是：22.95918367346939\n"
     ]
    }
   ],
   "source": [
    "height = [166, 178, 152, 165, 187, 140]\n",
    "weight = [62, 65, 50, 58, 82, 45]\n",
    "\n",
    "for i, j in zip(height, weight):\n",
    "    bmi = j / (i/100)**2\n",
    "    print(f'这位同学的身高是：{i}，体重是：{j}。所以BMI值就是：{bmi}')"
   ]
  },
  {
   "cell_type": "markdown",
   "metadata": {},
   "source": [
    "### 小范例：一颗可以客制化层数的圣诞树"
   ]
  },
  {
   "cell_type": "code",
   "execution_count": 5,
   "metadata": {},
   "outputs": [],
   "source": [
    "def print_tree(level):\n",
    "    width = 1\n",
    "    max_width = level*2 -1\n",
    "    for size in range(1, level+1):\n",
    "        print(((size*2 - 1) * \"*\").center(max_width))\n",
    "    \n",
    "    trunk_hight = int(level / 5) + 1\n",
    "    trunk_width = int(level / 10) + 1\n",
    "    for i in range(trunk_hight):\n",
    "        print((\"*\" * trunk_width).center(max_width))"
   ]
  },
  {
   "cell_type": "code",
   "execution_count": null,
   "metadata": {},
   "outputs": [],
   "source": [
    "n = int(input(\"你想要树叶有几层高呢？\"))\n",
    "print_tree(n)"
   ]
  },
  {
   "cell_type": "markdown",
   "metadata": {},
   "source": [
    "### 挑战题：\n",
    "\n",
    "1. 算出`桃花庵歌`里，有几句话有提到`桃花`?\n",
    "2. 算出`桃花庵歌`里，总共出现几个`花`?"
   ]
  },
  {
   "cell_type": "code",
   "execution_count": 6,
   "metadata": {},
   "outputs": [],
   "source": [
    "poem_string = \\\n",
    "\"\"\"\n",
    "桃花坞里桃花庵，桃花庵下桃花仙。桃花仙人种桃树，又摘桃花换酒钱。\n",
    "酒醒只在花前坐，酒醉还来花下眠。半醉半醒日复日，花落花开年复年。\n",
    "但愿老死花酒间，不愿鞠躬车马前。车尘马足显者事，酒盏花枝隐士缘。\n",
    "若将显者比隐士，一在平地一在天。若将花酒比车马，彼何碌碌我何闲。\n",
    "世人笑我太疯癫，我笑他人看不穿。不见五陵豪杰墓，无花无酒锄作田。\n",
    "\"\"\""
   ]
  },
  {
   "cell_type": "markdown",
   "metadata": {},
   "source": [
    "### 第一题：怎么样打印出正确的 count 呢？"
   ]
  },
  {
   "cell_type": "code",
   "execution_count": 7,
   "metadata": {},
   "outputs": [
    {
     "name": "stdout",
     "output_type": "stream",
     "text": [
      "桃花坞里桃花庵\n",
      "桃花庵下桃花仙\n",
      "桃花仙人种桃树\n",
      "又摘桃花换酒钱\n",
      "\n",
      "原来一共有4句提到桃花呢！\n"
     ]
    }
   ],
   "source": [
    "import re\n",
    "\n",
    "count = 0 \n",
    "sentence_list = re.split('，|。',poem_string)\n",
    "for sentence in sentence_list:\n",
    "    if '桃花' in sentence:\n",
    "        count += 1\n",
    "        print(sentence.strip())\n",
    "        \n",
    "print()\n",
    "print(f'原来一共有{count}句提到桃花呢！')"
   ]
  },
  {
   "cell_type": "markdown",
   "metadata": {},
   "source": [
    "### 第二题：留下空白，挑战看看了！"
   ]
  },
  {
   "cell_type": "code",
   "execution_count": null,
   "metadata": {},
   "outputs": [],
   "source": [
    "for word in poem_string:\n",
    "    __ ## 试试看吧！"
   ]
  },
  {
   "cell_type": "markdown",
   "metadata": {},
   "source": [
    "### 使用 Python `dictionary` 型态，做到更细部的字数计算"
   ]
  },
  {
   "cell_type": "code",
   "execution_count": 8,
   "metadata": {},
   "outputs": [
    {
     "data": {
      "text/plain": [
       "'\\n桃花坞里桃花庵，桃花庵下桃花仙。桃花仙人种桃树，又摘桃花换酒钱。\\n酒醒只在花前坐，酒醉还来花下眠。半醉半醒日复日，花落花开年复年。\\n但愿老死花酒间，不愿鞠躬车马前。车尘马足显者事，酒盏花枝隐士缘。\\n若将显者比隐士，一在平地一在天。若将花酒比车马，彼何碌碌我何闲。\\n世人笑我太疯癫，我笑他人看不穿。不见五陵豪杰墓，无花无酒锄作田。\\n'"
      ]
     },
     "execution_count": 8,
     "metadata": {},
     "output_type": "execute_result"
    }
   ],
   "source": [
    "poem_string"
   ]
  },
  {
   "cell_type": "code",
   "execution_count": 9,
   "metadata": {},
   "outputs": [
    {
     "name": "stdout",
     "output_type": "stream",
     "text": [
      "字典里共有：80 个字。\n",
      "印出最高频的5个字：\n",
      "\n",
      "花 出现了 14 次\n",
      "桃 出现了 7 次\n",
      "酒 出现了 7 次\n",
      "人 出现了 3 次\n",
      "在 出现了 3 次\n"
     ]
    }
   ],
   "source": [
    "import operator\n",
    "poem_string = poem_string.replace('。\\n', '').strip()\n",
    "\n",
    "\n",
    "word_count = {}\n",
    "for word in poem_string:\n",
    "    if word not in {'，', '。', ' '}:\n",
    "        if word not in word_count:\n",
    "            word_count[word] = 1\n",
    "        else:\n",
    "            word_count[word] += 1\n",
    "\n",
    "print(f'字典里共有：{len(word_count)} 个字。')\n",
    "print(f'印出最高频的5个字：\\n')\n",
    "sorted_list = sorted(word_count.items(), key=operator.itemgetter(1), reverse=True)\n",
    "for i in range(5):\n",
    "    print(f'{sorted_list[i][0]} 出现了 {sorted_list[i][1]} 次')"
   ]
  },
  {
   "cell_type": "markdown",
   "metadata": {},
   "source": [
    "## Numpy 介绍\n",
    "\n",
    "- 建立矩阵\n",
    "- 矩阵四则运算\n",
    "- 矩阵进阶操作"
   ]
  },
  {
   "cell_type": "code",
   "execution_count": 10,
   "metadata": {},
   "outputs": [],
   "source": [
    "import numpy as np"
   ]
  },
  {
   "cell_type": "markdown",
   "metadata": {},
   "source": [
    "### 不同维度宣告方式"
   ]
  },
  {
   "cell_type": "code",
   "execution_count": 11,
   "metadata": {},
   "outputs": [
    {
     "name": "stdout",
     "output_type": "stream",
     "text": [
      "a 矩阵的维度是：(4,)\n",
      "b 矩阵的维度是：(2, 4)\n",
      "c 矩阵的维度是：(2, 2, 4)\n"
     ]
    }
   ],
   "source": [
    "## 建立一维数组\n",
    "a = np.array([1, 2, 3, 4])\n",
    "print(f'a 矩阵的维度是：{a.shape}')\n",
    "\n",
    "## 建立二维数组\n",
    "b = np.array([(1, 2, 3, 4), (5, 6, 7, 8)])\n",
    "print(f'b 矩阵的维度是：{b.shape}')\n",
    "\n",
    "## 建立三维数组\n",
    "c = np.array([[(1, 2, 3, 4), (5, 6, 7, 8)], \n",
    "             [(1, 2, 3, 4), (5, 6, 7, 8)]])\n",
    "print(f'c 矩阵的维度是：{c.shape}')"
   ]
  },
  {
   "cell_type": "markdown",
   "metadata": {},
   "source": [
    "### 矩阵四维运算"
   ]
  },
  {
   "cell_type": "code",
   "execution_count": 12,
   "metadata": {},
   "outputs": [
    {
     "name": "stdout",
     "output_type": "stream",
     "text": [
      "[ 3  8 15]\n",
      "[ 2 16 54]\n",
      "[1. 2. 3.]\n",
      "[False  True False]\n"
     ]
    }
   ],
   "source": [
    "a = np.array([1, 4, 9])\n",
    "b = np.array([2, 4, 6])\n",
    "\n",
    "print(a + b)\n",
    "print(a * b)\n",
    "print(np.sqrt(a))\n",
    "print(a == b)"
   ]
  },
  {
   "cell_type": "markdown",
   "metadata": {},
   "source": [
    "> 在 numpy 的世界， for 循环是很少出现的，不需要循序对矩阵的每个元素一一做运算，直接套用全部即可！"
   ]
  },
  {
   "cell_type": "markdown",
   "metadata": {},
   "source": [
    "### 请问这个矩阵内，如果要把奇数全部加总起来，你会怎么做呢？"
   ]
  },
  {
   "cell_type": "code",
   "execution_count": 13,
   "metadata": {},
   "outputs": [],
   "source": [
    "a_arr = np.array(\n",
    "    [\n",
    "        [[1, 4, 9, 16],[2, 7, 8, 13],[6, 5, 7, 12]],\n",
    "        [[2, 5, 10, 17],[3, 8, 9, 14],[7, 6, 8, 13]],\n",
    "        [[1, 4, 9, 16],[2, 7, 8, 13],[6, 5, 7, 12]],\n",
    "        [[2, 5, 10, 17],[3, 8, 9, 14],[7, 6, 8, 13]]\n",
    "    ])\n"
   ]
  },
  {
   "cell_type": "code",
   "execution_count": 14,
   "metadata": {},
   "outputs": [
    {
     "data": {
      "text/plain": [
       "192"
      ]
     },
     "execution_count": 14,
     "metadata": {},
     "output_type": "execute_result"
    }
   ],
   "source": [
    "## 一行搞定！\n",
    "\n",
    "sum(a_arr[a_arr % 2 != 0])"
   ]
  },
  {
   "cell_type": "code",
   "execution_count": null,
   "metadata": {},
   "outputs": [],
   "source": []
  }
 ],
 "metadata": {
  "kernelspec": {
   "display_name": "conda_python3",
   "language": "python",
   "name": "conda_python3"
  },
  "language_info": {
   "codemirror_mode": {
    "name": "ipython",
    "version": 3
   },
   "file_extension": ".py",
   "mimetype": "text/x-python",
   "name": "python",
   "nbconvert_exporter": "python",
   "pygments_lexer": "ipython3",
   "version": "3.6.5"
  }
 },
 "nbformat": 4,
 "nbformat_minor": 2
}
