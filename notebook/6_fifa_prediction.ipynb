{
 "cells": [
  {
   "cell_type": "markdown",
   "metadata": {},
   "source": [
    "## FIFA (Fruitball Association) 水果杯足球赛开打了，你有办法预测比赛的胜负吗"
   ]
  },
  {
   "cell_type": "markdown",
   "metadata": {},
   "source": [
    "> 本次资料集搜集了`一百万`场比赛的胜负数据，以及该场比赛`两队的阵势`，以及每个位置`球员的能力值`\n",
    "\n",
    "\n",
    "***期望各位数据科学家们，找到其中的蛛丝马迹，掌握比赛的胜负！***"
   ]
  },
  {
   "cell_type": "code",
   "execution_count": 1,
   "metadata": {},
   "outputs": [],
   "source": [
    "import numpy as np\n",
    "import pandas as pd\n",
    "from sklearn import preprocessing\n",
    "import warnings\n",
    "import seaborn as sns\n",
    "import collections\n",
    "import pickle\n",
    "import matplotlib.pyplot as plt\n",
    "warnings.filterwarnings('ignore')"
   ]
  },
  {
   "cell_type": "code",
   "execution_count": 2,
   "metadata": {},
   "outputs": [
    {
     "name": "stdout",
     "output_type": "stream",
     "text": [
      "Requirement already satisfied: xgboost in /home/ec2-user/anaconda3/envs/python3/lib/python3.6/site-packages (0.90)\n",
      "Requirement already satisfied: numpy in /home/ec2-user/anaconda3/envs/python3/lib/python3.6/site-packages (from xgboost) (1.14.3)\n",
      "Requirement already satisfied: scipy in /home/ec2-user/anaconda3/envs/python3/lib/python3.6/site-packages (from xgboost) (1.1.0)\n",
      "\u001b[33mYou are using pip version 10.0.1, however version 19.3.1 is available.\n",
      "You should consider upgrading via the 'pip install --upgrade pip' command.\u001b[0m\n"
     ]
    }
   ],
   "source": [
    "!pip install xgboost"
   ]
  },
  {
   "cell_type": "code",
   "execution_count": 3,
   "metadata": {},
   "outputs": [],
   "source": [
    "df = pd.read_csv('./data/totalScore.csv')"
   ]
  },
  {
   "cell_type": "markdown",
   "metadata": {},
   "source": [
    "### 观察数据\n",
    "\n",
    "* 每队有p0-p13不同位置的球员\n",
    "* 有胜负的数据、也有两队分数分数的数据"
   ]
  },
  {
   "cell_type": "code",
   "execution_count": 4,
   "metadata": {},
   "outputs": [
    {
     "data": {
      "text/html": [
       "<div>\n",
       "<style scoped>\n",
       "    .dataframe tbody tr th:only-of-type {\n",
       "        vertical-align: middle;\n",
       "    }\n",
       "\n",
       "    .dataframe tbody tr th {\n",
       "        vertical-align: top;\n",
       "    }\n",
       "\n",
       "    .dataframe thead th {\n",
       "        text-align: right;\n",
       "    }\n",
       "</style>\n",
       "<table border=\"1\" class=\"dataframe\">\n",
       "  <thead>\n",
       "    <tr style=\"text-align: right;\">\n",
       "      <th></th>\n",
       "      <th>t1form</th>\n",
       "      <th>t1p0</th>\n",
       "      <th>t1p1</th>\n",
       "      <th>t1p2</th>\n",
       "      <th>t1p3</th>\n",
       "      <th>t1p4</th>\n",
       "      <th>t1p5</th>\n",
       "      <th>t1p6</th>\n",
       "      <th>t1p7</th>\n",
       "      <th>t1p8</th>\n",
       "      <th>...</th>\n",
       "      <th>t2p7</th>\n",
       "      <th>t2p8</th>\n",
       "      <th>t2p9</th>\n",
       "      <th>t2p10</th>\n",
       "      <th>t2p11</th>\n",
       "      <th>t2p12</th>\n",
       "      <th>t2p13</th>\n",
       "      <th>t1Score</th>\n",
       "      <th>t2Score</th>\n",
       "      <th>winner</th>\n",
       "    </tr>\n",
       "  </thead>\n",
       "  <tbody>\n",
       "    <tr>\n",
       "      <th>0</th>\n",
       "      <td>3-5-2</td>\n",
       "      <td>6.0</td>\n",
       "      <td>8.2</td>\n",
       "      <td>6.9</td>\n",
       "      <td>6.6</td>\n",
       "      <td>9.9</td>\n",
       "      <td>5.1</td>\n",
       "      <td>5.7</td>\n",
       "      <td>6.4</td>\n",
       "      <td>5.2</td>\n",
       "      <td>...</td>\n",
       "      <td>6.7</td>\n",
       "      <td>8.4</td>\n",
       "      <td>5.6</td>\n",
       "      <td>7.2</td>\n",
       "      <td>8.0</td>\n",
       "      <td>8.9</td>\n",
       "      <td>6.8</td>\n",
       "      <td>1</td>\n",
       "      <td>2</td>\n",
       "      <td>2</td>\n",
       "    </tr>\n",
       "    <tr>\n",
       "      <th>1</th>\n",
       "      <td>3-4-3</td>\n",
       "      <td>7.0</td>\n",
       "      <td>7.3</td>\n",
       "      <td>8.2</td>\n",
       "      <td>5.2</td>\n",
       "      <td>7.3</td>\n",
       "      <td>9.9</td>\n",
       "      <td>5.9</td>\n",
       "      <td>5.5</td>\n",
       "      <td>7.2</td>\n",
       "      <td>...</td>\n",
       "      <td>6.3</td>\n",
       "      <td>7.4</td>\n",
       "      <td>9.0</td>\n",
       "      <td>8.9</td>\n",
       "      <td>6.9</td>\n",
       "      <td>5.5</td>\n",
       "      <td>8.1</td>\n",
       "      <td>2</td>\n",
       "      <td>4</td>\n",
       "      <td>2</td>\n",
       "    </tr>\n",
       "    <tr>\n",
       "      <th>2</th>\n",
       "      <td>4-5-1</td>\n",
       "      <td>5.4</td>\n",
       "      <td>9.8</td>\n",
       "      <td>7.2</td>\n",
       "      <td>9.2</td>\n",
       "      <td>6.9</td>\n",
       "      <td>8.3</td>\n",
       "      <td>7.8</td>\n",
       "      <td>8.4</td>\n",
       "      <td>6.4</td>\n",
       "      <td>...</td>\n",
       "      <td>9.5</td>\n",
       "      <td>7.5</td>\n",
       "      <td>9.2</td>\n",
       "      <td>9.2</td>\n",
       "      <td>6.7</td>\n",
       "      <td>9.9</td>\n",
       "      <td>5.1</td>\n",
       "      <td>0</td>\n",
       "      <td>1</td>\n",
       "      <td>2</td>\n",
       "    </tr>\n",
       "    <tr>\n",
       "      <th>3</th>\n",
       "      <td>4-3-3</td>\n",
       "      <td>9.6</td>\n",
       "      <td>9.8</td>\n",
       "      <td>8.1</td>\n",
       "      <td>9.3</td>\n",
       "      <td>6.3</td>\n",
       "      <td>7.7</td>\n",
       "      <td>5.4</td>\n",
       "      <td>5.7</td>\n",
       "      <td>6.1</td>\n",
       "      <td>...</td>\n",
       "      <td>7.2</td>\n",
       "      <td>9.7</td>\n",
       "      <td>7.7</td>\n",
       "      <td>7.2</td>\n",
       "      <td>9.4</td>\n",
       "      <td>6.5</td>\n",
       "      <td>9.3</td>\n",
       "      <td>2</td>\n",
       "      <td>4</td>\n",
       "      <td>2</td>\n",
       "    </tr>\n",
       "    <tr>\n",
       "      <th>4</th>\n",
       "      <td>3-6-1</td>\n",
       "      <td>7.2</td>\n",
       "      <td>6.2</td>\n",
       "      <td>7.8</td>\n",
       "      <td>7.5</td>\n",
       "      <td>7.8</td>\n",
       "      <td>8.9</td>\n",
       "      <td>5.4</td>\n",
       "      <td>7.3</td>\n",
       "      <td>7.4</td>\n",
       "      <td>...</td>\n",
       "      <td>6.8</td>\n",
       "      <td>9.4</td>\n",
       "      <td>6.9</td>\n",
       "      <td>7.8</td>\n",
       "      <td>6.6</td>\n",
       "      <td>6.1</td>\n",
       "      <td>6.0</td>\n",
       "      <td>4</td>\n",
       "      <td>6</td>\n",
       "      <td>2</td>\n",
       "    </tr>\n",
       "  </tbody>\n",
       "</table>\n",
       "<p>5 rows × 33 columns</p>\n",
       "</div>"
      ],
      "text/plain": [
       "  t1form  t1p0  t1p1  t1p2  t1p3  t1p4  t1p5  t1p6  t1p7  t1p8  ...  t2p7  \\\n",
       "0  3-5-2   6.0   8.2   6.9   6.6   9.9   5.1   5.7   6.4   5.2  ...   6.7   \n",
       "1  3-4-3   7.0   7.3   8.2   5.2   7.3   9.9   5.9   5.5   7.2  ...   6.3   \n",
       "2  4-5-1   5.4   9.8   7.2   9.2   6.9   8.3   7.8   8.4   6.4  ...   9.5   \n",
       "3  4-3-3   9.6   9.8   8.1   9.3   6.3   7.7   5.4   5.7   6.1  ...   7.2   \n",
       "4  3-6-1   7.2   6.2   7.8   7.5   7.8   8.9   5.4   7.3   7.4  ...   6.8   \n",
       "\n",
       "   t2p8  t2p9  t2p10  t2p11 t2p12  t2p13  t1Score  t2Score  winner  \n",
       "0   8.4   5.6    7.2    8.0   8.9    6.8        1        2       2  \n",
       "1   7.4   9.0    8.9    6.9   5.5    8.1        2        4       2  \n",
       "2   7.5   9.2    9.2    6.7   9.9    5.1        0        1       2  \n",
       "3   9.7   7.7    7.2    9.4   6.5    9.3        2        4       2  \n",
       "4   9.4   6.9    7.8    6.6   6.1    6.0        4        6       2  \n",
       "\n",
       "[5 rows x 33 columns]"
      ]
     },
     "execution_count": 4,
     "metadata": {},
     "output_type": "execute_result"
    }
   ],
   "source": [
    "df.head()"
   ]
  },
  {
   "cell_type": "code",
   "execution_count": 5,
   "metadata": {},
   "outputs": [
    {
     "data": {
      "text/plain": [
       "Index(['t1form', 't1p0', 't1p1', 't1p2', 't1p3', 't1p4', 't1p5', 't1p6',\n",
       "       't1p7', 't1p8', 't1p9', 't1p10', 't1p11', 't1p12', 't1p13', 't2form',\n",
       "       't2p0', 't2p1', 't2p2', 't2p3', 't2p4', 't2p5', 't2p6', 't2p7', 't2p8',\n",
       "       't2p9', 't2p10', 't2p11', 't2p12', 't2p13', 't1Score', 't2Score',\n",
       "       'winner'],\n",
       "      dtype='object')"
      ]
     },
     "execution_count": 5,
     "metadata": {},
     "output_type": "execute_result"
    }
   ],
   "source": [
    "df.columns"
   ]
  },
  {
   "cell_type": "markdown",
   "metadata": {},
   "source": [
    "### 栏位说明\n",
    "\n",
    "* `t1` 代表第一队， `t2` 代表第二队\n",
    "* `p0 - p13` 代表球场上的 13 名球员，位置先不透露\n",
    "* `t1Score` 是第一队分数 `t2Score` 是第二队分数\n",
    "* `winner` 1 代表第一队赢，2 代表第二队赢"
   ]
  },
  {
   "cell_type": "code",
   "execution_count": 6,
   "metadata": {},
   "outputs": [
    {
     "name": "stdout",
     "output_type": "stream",
     "text": [
      "一共有 1000000 场比赛资料，包含 33 个栏位 \n"
     ]
    }
   ],
   "source": [
    "print(f'一共有 {df.shape[0]} 场比赛资料，包含 {df.shape[1]} 个栏位 ')"
   ]
  },
  {
   "cell_type": "markdown",
   "metadata": {},
   "source": [
    "### 首先想看看分数的差距，跟特征的相关性，先加入差距栏位"
   ]
  },
  {
   "cell_type": "code",
   "execution_count": 7,
   "metadata": {},
   "outputs": [],
   "source": [
    "df['diff'] = df.apply(lambda row: abs(row['t1Score'] - row['t2Score']), axis=1)"
   ]
  },
  {
   "cell_type": "markdown",
   "metadata": {},
   "source": [
    "### [简化资料] 赛事结果是相对的，试试看先只考虑相对位置能力值的差距"
   ]
  },
  {
   "cell_type": "code",
   "execution_count": 8,
   "metadata": {},
   "outputs": [],
   "source": [
    "df_new = pd.DataFrame()\n",
    "\n",
    "for i in range(0, 14):\n",
    "    t1_col = 't1p' + str(i)\n",
    "    t2_col = 't2p' + str(i)\n",
    "    df_new['p' + str(i)] = df[t1_col] - df[t2_col]\n",
    "    \n",
    "df_new['score'] = df['t1Score'] - df['t2Score']\n",
    "df_new['win'] = [1 if x == 1 else 2 for x in df['winner']] "
   ]
  },
  {
   "cell_type": "code",
   "execution_count": 9,
   "metadata": {},
   "outputs": [
    {
     "data": {
      "text/html": [
       "<div>\n",
       "<style scoped>\n",
       "    .dataframe tbody tr th:only-of-type {\n",
       "        vertical-align: middle;\n",
       "    }\n",
       "\n",
       "    .dataframe tbody tr th {\n",
       "        vertical-align: top;\n",
       "    }\n",
       "\n",
       "    .dataframe thead th {\n",
       "        text-align: right;\n",
       "    }\n",
       "</style>\n",
       "<table border=\"1\" class=\"dataframe\">\n",
       "  <thead>\n",
       "    <tr style=\"text-align: right;\">\n",
       "      <th></th>\n",
       "      <th>p0</th>\n",
       "      <th>p1</th>\n",
       "      <th>p2</th>\n",
       "      <th>p3</th>\n",
       "      <th>p4</th>\n",
       "      <th>p5</th>\n",
       "      <th>p6</th>\n",
       "      <th>p7</th>\n",
       "      <th>p8</th>\n",
       "      <th>p9</th>\n",
       "      <th>p10</th>\n",
       "      <th>p11</th>\n",
       "      <th>p12</th>\n",
       "      <th>p13</th>\n",
       "      <th>score</th>\n",
       "      <th>win</th>\n",
       "    </tr>\n",
       "  </thead>\n",
       "  <tbody>\n",
       "    <tr>\n",
       "      <th>0</th>\n",
       "      <td>0.2</td>\n",
       "      <td>1.9</td>\n",
       "      <td>-2.4</td>\n",
       "      <td>-3.3</td>\n",
       "      <td>3.6</td>\n",
       "      <td>-4.3</td>\n",
       "      <td>-1.1</td>\n",
       "      <td>-0.3</td>\n",
       "      <td>-3.2</td>\n",
       "      <td>2.8</td>\n",
       "      <td>1.1</td>\n",
       "      <td>0.0</td>\n",
       "      <td>-0.3</td>\n",
       "      <td>1.7</td>\n",
       "      <td>-1</td>\n",
       "      <td>2</td>\n",
       "    </tr>\n",
       "    <tr>\n",
       "      <th>1</th>\n",
       "      <td>-1.1</td>\n",
       "      <td>-0.2</td>\n",
       "      <td>-0.8</td>\n",
       "      <td>-1.5</td>\n",
       "      <td>1.8</td>\n",
       "      <td>0.5</td>\n",
       "      <td>-0.7</td>\n",
       "      <td>-0.8</td>\n",
       "      <td>-0.2</td>\n",
       "      <td>-2.3</td>\n",
       "      <td>-2.7</td>\n",
       "      <td>1.1</td>\n",
       "      <td>1.4</td>\n",
       "      <td>1.3</td>\n",
       "      <td>-2</td>\n",
       "      <td>2</td>\n",
       "    </tr>\n",
       "    <tr>\n",
       "      <th>2</th>\n",
       "      <td>-3.6</td>\n",
       "      <td>4.1</td>\n",
       "      <td>-0.5</td>\n",
       "      <td>-0.1</td>\n",
       "      <td>0.3</td>\n",
       "      <td>2.1</td>\n",
       "      <td>-0.5</td>\n",
       "      <td>-1.1</td>\n",
       "      <td>-1.1</td>\n",
       "      <td>-3.7</td>\n",
       "      <td>-1.7</td>\n",
       "      <td>2.3</td>\n",
       "      <td>-4.9</td>\n",
       "      <td>4.2</td>\n",
       "      <td>-1</td>\n",
       "      <td>2</td>\n",
       "    </tr>\n",
       "    <tr>\n",
       "      <th>3</th>\n",
       "      <td>0.8</td>\n",
       "      <td>4.7</td>\n",
       "      <td>0.6</td>\n",
       "      <td>0.6</td>\n",
       "      <td>1.1</td>\n",
       "      <td>1.6</td>\n",
       "      <td>-2.2</td>\n",
       "      <td>-1.5</td>\n",
       "      <td>-3.6</td>\n",
       "      <td>-1.5</td>\n",
       "      <td>2.2</td>\n",
       "      <td>-2.0</td>\n",
       "      <td>0.4</td>\n",
       "      <td>-3.4</td>\n",
       "      <td>-2</td>\n",
       "      <td>2</td>\n",
       "    </tr>\n",
       "    <tr>\n",
       "      <th>4</th>\n",
       "      <td>-2.4</td>\n",
       "      <td>-1.2</td>\n",
       "      <td>0.6</td>\n",
       "      <td>-0.1</td>\n",
       "      <td>0.0</td>\n",
       "      <td>1.7</td>\n",
       "      <td>-4.4</td>\n",
       "      <td>0.5</td>\n",
       "      <td>-2.0</td>\n",
       "      <td>-0.4</td>\n",
       "      <td>0.7</td>\n",
       "      <td>-1.5</td>\n",
       "      <td>-0.7</td>\n",
       "      <td>2.7</td>\n",
       "      <td>-2</td>\n",
       "      <td>2</td>\n",
       "    </tr>\n",
       "  </tbody>\n",
       "</table>\n",
       "</div>"
      ],
      "text/plain": [
       "    p0   p1   p2   p3   p4   p5   p6   p7   p8   p9  p10  p11  p12  p13  \\\n",
       "0  0.2  1.9 -2.4 -3.3  3.6 -4.3 -1.1 -0.3 -3.2  2.8  1.1  0.0 -0.3  1.7   \n",
       "1 -1.1 -0.2 -0.8 -1.5  1.8  0.5 -0.7 -0.8 -0.2 -2.3 -2.7  1.1  1.4  1.3   \n",
       "2 -3.6  4.1 -0.5 -0.1  0.3  2.1 -0.5 -1.1 -1.1 -3.7 -1.7  2.3 -4.9  4.2   \n",
       "3  0.8  4.7  0.6  0.6  1.1  1.6 -2.2 -1.5 -3.6 -1.5  2.2 -2.0  0.4 -3.4   \n",
       "4 -2.4 -1.2  0.6 -0.1  0.0  1.7 -4.4  0.5 -2.0 -0.4  0.7 -1.5 -0.7  2.7   \n",
       "\n",
       "   score  win  \n",
       "0     -1    2  \n",
       "1     -2    2  \n",
       "2     -1    2  \n",
       "3     -2    2  \n",
       "4     -2    2  "
      ]
     },
     "execution_count": 9,
     "metadata": {},
     "output_type": "execute_result"
    }
   ],
   "source": [
    "df_new.head()"
   ]
  },
  {
   "cell_type": "code",
   "execution_count": 10,
   "metadata": {},
   "outputs": [
    {
     "name": "stdout",
     "output_type": "stream",
     "text": [
      "第一队赢了 499792 次，输了 500208 次\n"
     ]
    }
   ],
   "source": [
    "result = dict(collections.Counter(df_new['win']))\n",
    "print(f'第一队赢了 {result[1]} 次，输了 {result[2]} 次')"
   ]
  },
  {
   "cell_type": "code",
   "execution_count": 11,
   "metadata": {},
   "outputs": [],
   "source": [
    "train_features = list(df_new.columns[:-2])"
   ]
  },
  {
   "cell_type": "code",
   "execution_count": 12,
   "metadata": {},
   "outputs": [],
   "source": [
    "X = df_new.iloc[:,:-2].values\n",
    "y = df_new[['win']].values"
   ]
  },
  {
   "cell_type": "markdown",
   "metadata": {},
   "source": [
    "### xgboost 是分类演算法神器，不确定选什么模型就先套这个吧！\n",
    "\n",
    "* 简单的说：先建一颗决策树，检讨预测不足的地方 -> 再建一棵树 -> 一直到建了k颗树\n",
    "* 集合 k 颗树的智慧一起预测，打团体战的概念！\n",
    "* 在许多比赛里，取得统治级的表现"
   ]
  },
  {
   "cell_type": "code",
   "execution_count": 13,
   "metadata": {},
   "outputs": [],
   "source": [
    "from xgboost import XGBClassifier\n",
    "from sklearn.model_selection import train_test_split\n",
    "from sklearn import metrics"
   ]
  },
  {
   "cell_type": "markdown",
   "metadata": {},
   "source": [
    "### 切分训练集以及测试集"
   ]
  },
  {
   "cell_type": "code",
   "execution_count": 14,
   "metadata": {},
   "outputs": [],
   "source": [
    "X_train, X_test, y_train, y_test = \\\n",
    "    train_test_split(X, y, test_size=0.3)"
   ]
  },
  {
   "cell_type": "code",
   "execution_count": 15,
   "metadata": {},
   "outputs": [
    {
     "data": {
      "text/plain": [
       "XGBClassifier(base_score=0.5, booster='gbtree', colsample_bylevel=1,\n",
       "       colsample_bynode=1, colsample_bytree=1, gamma=0, learning_rate=0.1,\n",
       "       max_delta_step=0, max_depth=3, min_child_weight=1, missing=None,\n",
       "       n_estimators=100, n_jobs=1, nthread=-1, objective='binary:logistic',\n",
       "       random_state=0, reg_alpha=0, reg_lambda=1, scale_pos_weight=1,\n",
       "       seed=None, silent=None, subsample=1, verbosity=1)"
      ]
     },
     "execution_count": 15,
     "metadata": {},
     "output_type": "execute_result"
    }
   ],
   "source": [
    "model = XGBClassifier(nthread=-1)\n",
    "model.fit(X_train, y_train)"
   ]
  },
  {
   "cell_type": "markdown",
   "metadata": {},
   "source": [
    "### 有兴趣的同学，可以多多研究这些参数的意义！"
   ]
  },
  {
   "cell_type": "code",
   "execution_count": 16,
   "metadata": {},
   "outputs": [
    {
     "name": "stdout",
     "output_type": "stream",
     "text": [
      "牛刀小试一下，准确率: 0.65328\n"
     ]
    }
   ],
   "source": [
    "test_pred = model.predict(X_test)\n",
    "acc = metrics.accuracy_score(y_test, test_pred)\n",
    "print('牛刀小试一下，准确率:', acc)"
   ]
  },
  {
   "cell_type": "markdown",
   "metadata": {},
   "source": [
    "## [动动脑] 学习机器学习不能知道准确性偏误的可怕\n",
    "\n",
    "> 某种疾病，每一千个患者才出现一名阳性反应，如今导入一个号称准确率 99.9% 的神奇模型，请问该怎么做？\n",
    "\n",
    "Ans. 全部猜阴性就好！"
   ]
  },
  {
   "cell_type": "code",
   "execution_count": 17,
   "metadata": {},
   "outputs": [
    {
     "name": "stdout",
     "output_type": "stream",
     "text": [
      "第一队真的赢了，模型也猜对的有 98409 次\n",
      "第一队真的赢了，模型猜输的有 51430 次\n",
      "第一队真的输了，模型也猜对的有 97575 次\n",
      "第一队真的输了，模型猜赢的有 52586 次\n"
     ]
    }
   ],
   "source": [
    "tn, fp, fn, tp = metrics.confusion_matrix(y_test, test_pred).ravel()\n",
    "\n",
    "print(f'第一队真的赢了，模型也猜对的有 {tp} 次')\n",
    "print(f'第一队真的赢了，模型猜输的有 {fn} 次')\n",
    "print(f'第一队真的输了，模型也猜对的有 {tn} 次')\n",
    "print(f'第一队真的输了，模型猜赢的有 {fp} 次')"
   ]
  },
  {
   "cell_type": "markdown",
   "metadata": {},
   "source": [
    "### 如果把阵型考虑进去呢？"
   ]
  },
  {
   "cell_type": "code",
   "execution_count": 18,
   "metadata": {},
   "outputs": [],
   "source": [
    "df_new = pd.concat([df_new, pd.get_dummies(df[['t1form']],\n",
    "                                  prefix='t1form',dummy_na=True)], axis=1)\n",
    "df_new = pd.concat([df_new,pd.get_dummies(df[['t2form']],\n",
    "                                  prefix='t2form',dummy_na=True)], axis=1)\n",
    "\n",
    "df_new = df_new.drop(['t2form_nan','t1form_nan'], axis=1)"
   ]
  },
  {
   "cell_type": "markdown",
   "metadata": {},
   "source": [
    "### 栏位突然变这么多！"
   ]
  },
  {
   "cell_type": "code",
   "execution_count": 19,
   "metadata": {},
   "outputs": [
    {
     "data": {
      "text/plain": [
       "Index(['p0', 'p1', 'p2', 'p3', 'p4', 'p5', 'p6', 'p7', 'p8', 'p9', 'p10',\n",
       "       'p11', 'p12', 'p13', 'score', 'win', 't1form_3-4-3', 't1form_3-5-2',\n",
       "       't1form_3-6-1', 't1form_4-2-2-2', 't1form_4-2-3-1', 't1form_4-3-2-1',\n",
       "       't1form_4-3-3', 't1form_4-4-2', 't1form_4-5-1', 't1form_5-3-2',\n",
       "       't1form_5-4-1', 't2form_3-4-3', 't2form_3-5-2', 't2form_3-6-1',\n",
       "       't2form_4-2-2-2', 't2form_4-2-3-1', 't2form_4-3-2-1', 't2form_4-3-3',\n",
       "       't2form_4-4-2', 't2form_4-5-1', 't2form_5-3-2', 't2form_5-4-1'],\n",
       "      dtype='object')"
      ]
     },
     "execution_count": 19,
     "metadata": {},
     "output_type": "execute_result"
    }
   ],
   "source": [
    "df_new.columns"
   ]
  },
  {
   "cell_type": "markdown",
   "metadata": {},
   "source": [
    "### [动动脑] 如果给模型这样的训练资料，会有什么重大问题\n",
    "\n",
    "* `team1_type` 代表第一队的阵势\n",
    "* `team2_type` 代表第二队的阵势\n",
    "\n",
    "\n",
    "| p0 | p1 | p2 | p3 | team1_type | team2_type |\n",
    "|---|---|---|---|---|---|\n",
    "| 0.2 | 2.1 | -0.1 | 4.1 | 1 | 2 |\n",
    "| 1.3 | 0.5 | 3.0 | 2.5 | 3 | 1 |\n",
    "| 4.1 | 0.8 | 2.3 | -1.1 | 2 | 3 |\n",
    "\n",
    "\n",
    "Ans. 模型并不知道 `team1_type` 以及 `team2_type` 是类别型的资料，会认为 1, 2, 3, ... 之间数字大小是有距离关系的！\n",
    "\n",
    "   ==> 透过 `get_dummies` 转换成，多栏位的 `类别型资料`，专业的术语称作为 `one-hot` 编码\n",
    "   \n",
    "***如以下所见，全部只有 0 和 1***"
   ]
  },
  {
   "cell_type": "code",
   "execution_count": 20,
   "metadata": {},
   "outputs": [
    {
     "data": {
      "text/html": [
       "<div>\n",
       "<style scoped>\n",
       "    .dataframe tbody tr th:only-of-type {\n",
       "        vertical-align: middle;\n",
       "    }\n",
       "\n",
       "    .dataframe tbody tr th {\n",
       "        vertical-align: top;\n",
       "    }\n",
       "\n",
       "    .dataframe thead th {\n",
       "        text-align: right;\n",
       "    }\n",
       "</style>\n",
       "<table border=\"1\" class=\"dataframe\">\n",
       "  <thead>\n",
       "    <tr style=\"text-align: right;\">\n",
       "      <th></th>\n",
       "      <th>t1form_3-6-1</th>\n",
       "      <th>t1form_3-4-3</th>\n",
       "      <th>t1form_3-5-2</th>\n",
       "      <th>t1form_4-2-2-2</th>\n",
       "      <th>t1form_4-3-3</th>\n",
       "      <th>t1form_4-4-2</th>\n",
       "    </tr>\n",
       "  </thead>\n",
       "  <tbody>\n",
       "    <tr>\n",
       "      <th>0</th>\n",
       "      <td>0</td>\n",
       "      <td>0</td>\n",
       "      <td>1</td>\n",
       "      <td>0</td>\n",
       "      <td>0</td>\n",
       "      <td>0</td>\n",
       "    </tr>\n",
       "    <tr>\n",
       "      <th>1</th>\n",
       "      <td>0</td>\n",
       "      <td>1</td>\n",
       "      <td>0</td>\n",
       "      <td>0</td>\n",
       "      <td>0</td>\n",
       "      <td>0</td>\n",
       "    </tr>\n",
       "    <tr>\n",
       "      <th>2</th>\n",
       "      <td>0</td>\n",
       "      <td>0</td>\n",
       "      <td>0</td>\n",
       "      <td>0</td>\n",
       "      <td>0</td>\n",
       "      <td>0</td>\n",
       "    </tr>\n",
       "    <tr>\n",
       "      <th>3</th>\n",
       "      <td>0</td>\n",
       "      <td>0</td>\n",
       "      <td>0</td>\n",
       "      <td>0</td>\n",
       "      <td>1</td>\n",
       "      <td>0</td>\n",
       "    </tr>\n",
       "    <tr>\n",
       "      <th>4</th>\n",
       "      <td>1</td>\n",
       "      <td>0</td>\n",
       "      <td>0</td>\n",
       "      <td>0</td>\n",
       "      <td>0</td>\n",
       "      <td>0</td>\n",
       "    </tr>\n",
       "  </tbody>\n",
       "</table>\n",
       "</div>"
      ],
      "text/plain": [
       "   t1form_3-6-1  t1form_3-4-3  t1form_3-5-2  t1form_4-2-2-2  t1form_4-3-3  \\\n",
       "0             0             0             1               0             0   \n",
       "1             0             1             0               0             0   \n",
       "2             0             0             0               0             0   \n",
       "3             0             0             0               0             1   \n",
       "4             1             0             0               0             0   \n",
       "\n",
       "   t1form_4-4-2  \n",
       "0             0  \n",
       "1             0  \n",
       "2             0  \n",
       "3             0  \n",
       "4             0  "
      ]
     },
     "execution_count": 20,
     "metadata": {},
     "output_type": "execute_result"
    }
   ],
   "source": [
    "df_new[['t1form_3-6-1','t1form_3-4-3','t1form_3-5-2','t1form_4-2-2-2','t1form_4-3-3','t1form_4-4-2']].head()"
   ]
  },
  {
   "cell_type": "markdown",
   "metadata": {},
   "source": [
    "### 取得目前所有可供训练的属性"
   ]
  },
  {
   "cell_type": "code",
   "execution_count": 21,
   "metadata": {},
   "outputs": [
    {
     "name": "stdout",
     "output_type": "stream",
     "text": [
      "['p0', 'p1', 'p2', 'p3', 'p4', 'p5', 'p6', 'p7', 'p8', 'p9', 'p10', 'p11', 'p12', 'p13', 't1form_3-4-3', 't1form_3-5-2', 't1form_3-6-1', 't1form_4-2-2-2', 't1form_4-2-3-1', 't1form_4-3-2-1', 't1form_4-3-3', 't1form_4-4-2', 't1form_4-5-1', 't1form_5-3-2', 't1form_5-4-1', 't2form_3-4-3', 't2form_3-5-2', 't2form_3-6-1', 't2form_4-2-2-2', 't2form_4-2-3-1', 't2form_4-3-2-1', 't2form_4-3-3', 't2form_4-4-2', 't2form_4-5-1', 't2form_5-3-2', 't2form_5-4-1']\n"
     ]
    }
   ],
   "source": [
    "for col in df_new.columns:\n",
    "    if col.startswith('t'):\n",
    "        train_features.append(col)\n",
    "        \n",
    "print(train_features)"
   ]
  },
  {
   "cell_type": "markdown",
   "metadata": {},
   "source": [
    "### 再做一次训练看看"
   ]
  },
  {
   "cell_type": "code",
   "execution_count": 22,
   "metadata": {},
   "outputs": [],
   "source": [
    "X = df_new[train_features].values\n",
    "y = df_new[['win']].values"
   ]
  },
  {
   "cell_type": "code",
   "execution_count": 23,
   "metadata": {},
   "outputs": [],
   "source": [
    "X_train, X_test, y_train, y_test = \\\n",
    "    train_test_split(X, y, test_size=0.3)"
   ]
  },
  {
   "cell_type": "code",
   "execution_count": 24,
   "metadata": {},
   "outputs": [
    {
     "data": {
      "text/plain": [
       "XGBClassifier(base_score=0.5, booster='gbtree', colsample_bylevel=1,\n",
       "       colsample_bynode=1, colsample_bytree=1, gamma=0, learning_rate=0.1,\n",
       "       max_delta_step=0, max_depth=3, min_child_weight=1, missing=None,\n",
       "       n_estimators=100, n_jobs=1, nthread=-1, objective='binary:logistic',\n",
       "       random_state=0, reg_alpha=0, reg_lambda=1, scale_pos_weight=1,\n",
       "       seed=None, silent=None, subsample=1, verbosity=1)"
      ]
     },
     "execution_count": 24,
     "metadata": {},
     "output_type": "execute_result"
    }
   ],
   "source": [
    "model_addForm = XGBClassifier(nthread=-1)\n",
    "model_addForm.fit(X_train, y_train)"
   ]
  },
  {
   "cell_type": "code",
   "execution_count": 25,
   "metadata": {},
   "outputs": [
    {
     "name": "stdout",
     "output_type": "stream",
     "text": [
      "准确率: 0.68978\n"
     ]
    }
   ],
   "source": [
    "test_pred = model_addForm.predict(X_test)\n",
    "acc = metrics.accuracy_score(y_test, test_pred)\n",
    "print('准确率:', acc)"
   ]
  },
  {
   "cell_type": "markdown",
   "metadata": {},
   "source": [
    "### 观察一下栏位重要性"
   ]
  },
  {
   "cell_type": "code",
   "execution_count": 26,
   "metadata": {},
   "outputs": [],
   "source": [
    "importances_df = pd.DataFrame()\n",
    "\n",
    "for value, name in zip(model_addForm.feature_importances_, train_features):\n",
    "    importances_df = importances_df.append({'feature': name, 'value': value}, \n",
    "                                           ignore_index=True)"
   ]
  },
  {
   "cell_type": "code",
   "execution_count": 27,
   "metadata": {},
   "outputs": [],
   "source": [
    "importances_df = importances_df.sort_values(['value'],\n",
    "                    ascending=[False]).reset_index(drop=True)"
   ]
  },
  {
   "cell_type": "code",
   "execution_count": 28,
   "metadata": {},
   "outputs": [
    {
     "data": {
      "image/png": "[encoded data removed]",
      "text/plain": [
       "<Figure size 432x288 with 1 Axes>"
      ]
     },
     "metadata": {},
     "output_type": "display_data"
    }
   ],
   "source": [
    "ax = sns.barplot(x=\"value\", y=\"feature\", data=importances_df.iloc[0:10])"
   ]
  },
  {
   "cell_type": "markdown",
   "metadata": {},
   "source": [
    "## 加入提示\n",
    "\n",
    "* 球员位置分配： p0-p2 前锋、p3-p7 中场、p8-p12 后卫、p13 守门员"
   ]
  },
  {
   "cell_type": "code",
   "execution_count": 29,
   "metadata": {},
   "outputs": [
    {
     "name": "stdout",
     "output_type": "stream",
     "text": [
      "当第一队摆出 `4-5-1` 阵形时，赢了 28041 场，输了 62825 场\n",
      "当第一队摆出 `5-3-2` 阵形时，赢了 59759 场，输了 31157 场\n"
     ]
    }
   ],
   "source": [
    "result_4_5_1  = dict(collections.Counter(df_new[df_new['t1form_4-5-1'] == 1]['win']))\n",
    "\n",
    "print(f'当第一队摆出 `4-5-1` 阵形时，赢了 {result_4_5_1[1]} 场，输了 {result_4_5_1[2]} 场')\n",
    "\n",
    "result_5_3_2  = dict(collections.Counter(df_new[df_new['t1form_5-3-2'] == 1]['win']))\n",
    "\n",
    "print(f'当第一队摆出 `5-3-2` 阵形时，赢了 {result_5_3_2[1]} 场，输了 {result_5_3_2[2]} 场')"
   ]
  },
  {
   "cell_type": "markdown",
   "metadata": {},
   "source": [
    "### 原来在这样的阵型里，前锋的能力左右了比赛的局势！"
   ]
  },
  {
   "cell_type": "code",
   "execution_count": 30,
   "metadata": {},
   "outputs": [
    {
     "name": "stdout",
     "output_type": "stream",
     "text": [
      "在摆出 4-5-1 阵形出赛的情况下：\n",
      "\t第一队胜利时前锋能力值平均胜过对手:      \n",
      "\t0.46475874612175067, 0.4481330908312806, 0.4537284690274964\n",
      "\t第一队输球时前锋能力值平均输给对手:      \n",
      "\t-0.20159172304019116, -0.19831754874651944, -0.19460724233983245\n"
     ]
    }
   ],
   "source": [
    "p0_w, p1_w, p2_w = df_new[(df_new['win'] == 1) & (df_new['t1form_4-5-1'] == 1)][['p0','p1','p2']].mean()\n",
    "p0_l, p1_l, p2_l = df_new[(df_new['win'] == 2) & (df_new['t1form_4-5-1'] == 1)][['p0','p1','p2']].mean()\n",
    "\n",
    "print(f'在摆出 4-5-1 阵形出赛的情况下：')\n",
    "print(f'\\t第一队胜利时前锋能力值平均胜过对手:\\\n",
    "      \\n\\t{p0_w}, {p1_w}, {p2_w}')\n",
    "print(f'\\t第一队输球时前锋能力值平均输给对手:\\\n",
    "      \\n\\t{p0_l}, {p1_l}, {p2_l}')"
   ]
  },
  {
   "cell_type": "markdown",
   "metadata": {},
   "source": [
    "### 精通胜利之道\n",
    "\n",
    "> 在这份资料集里，摆上强力前锋是王道啊！\n",
    "\n",
    "> 好的守门员，让你无后顾之忧"
   ]
  },
  {
   "cell_type": "markdown",
   "metadata": {},
   "source": [
    "### 资料观察：当两队限制在同一阵形时，每个位置球员重要性是否有差异？"
   ]
  },
  {
   "cell_type": "code",
   "execution_count": 31,
   "metadata": {},
   "outputs": [],
   "source": [
    "form_type = '4-5-1'\n",
    "\n",
    "df_forward = df_new[(df_new['t1form_'+form_type]==1) & (df_new['t2form_'+form_type]==1)]\\\n",
    "    [['p0', 'p1', 'p2', 'p3', 'p4', 'p5', 'p6', 'p7', 'p8', 'p9', 'p10', 'p11', 'p12', 'p13', 'win']]"
   ]
  },
  {
   "cell_type": "code",
   "execution_count": 32,
   "metadata": {},
   "outputs": [],
   "source": [
    "df_forward['win'] = df_forward['win'].astype('category')\n",
    "df_forward['win'].cat.categories = [2,1]\n",
    "df_forward['win'] = df_forward['win'].astype('float')"
   ]
  },
  {
   "cell_type": "code",
   "execution_count": 33,
   "metadata": {},
   "outputs": [
    {
     "data": {
      "text/plain": [
       "<matplotlib.axes._subplots.AxesSubplot at 0x7f26d9969358>"
      ]
     },
     "execution_count": 33,
     "metadata": {},
     "output_type": "execute_result"
    },
    {
     "data": {
      "image/png": "[encoded data removed]",
      "text/plain": [
       "<Figure size 432x288 with 1 Axes>"
      ]
     },
     "metadata": {},
     "output_type": "display_data"
    }
   ],
   "source": [
    "corr = df_forward.corr()\n",
    "corr[['win']].drop(['win'],axis=0).plot()"
   ]
  },
  {
   "cell_type": "code",
   "execution_count": 34,
   "metadata": {},
   "outputs": [],
   "source": [
    "form_type = '3-5-2'  \n",
    "\n",
    "df_guard = df_new[(df_new['t1form_'+form_type]==1) & (df_new['t2form_'+form_type]==1)]\\\n",
    "    [['p0', 'p1', 'p2', 'p3', 'p4', 'p5', 'p6', 'p7', 'p8', 'p9', 'p10', 'p11', 'p12', 'p13', 'win']]"
   ]
  },
  {
   "cell_type": "code",
   "execution_count": 35,
   "metadata": {},
   "outputs": [
    {
     "data": {
      "text/plain": [
       "<matplotlib.axes._subplots.AxesSubplot at 0x7f26d99179e8>"
      ]
     },
     "execution_count": 35,
     "metadata": {},
     "output_type": "execute_result"
    },
    {
     "data": {
      "image/png": "[encoded data removed]",
      "text/plain": [
       "<Figure size 432x288 with 1 Axes>"
      ]
     },
     "metadata": {},
     "output_type": "display_data"
    }
   ],
   "source": [
    "df_guard['win'] = df_guard['win'].astype('category')\n",
    "df_guard['win'].cat.categories = [2,1]\n",
    "df_guard['win'] = df_guard['win'].astype('float')\n",
    "corr = df_guard.corr()\n",
    "corr[['win']].drop(['win'],axis=0).plot()"
   ]
  },
  {
   "cell_type": "markdown",
   "metadata": {},
   "source": [
    "### 已经知道栏位意义了，为了简化资料，把同位置合并"
   ]
  },
  {
   "cell_type": "code",
   "execution_count": 36,
   "metadata": {},
   "outputs": [],
   "source": [
    "df_group = pd.DataFrame()\n",
    "\n",
    "## 把 13 个位置合并成： f(前锋), m(中场), b(后卫), g(守门员)\n",
    "df_group['t1_f'] = (df['t1p0'] + df['t1p1'] + df['t1p2']) / 3\n",
    "df_group['t1_m'] = (df['t1p3'] + df['t1p4'] + df['t1p5'] + df['t1p6'] + df['t1p7']) / 5\n",
    "df_group['t1_b'] = (df['t1p8'] + df['t1p9'] + df['t1p10'] + df['t1p11'] + df['t1p12']) / 5\n",
    "df_group['t1_g'] = df['t1p13']\n",
    "\n",
    "df_group['t2_f'] = (df['t2p0'] + df['t2p1'] + df['t2p2']) / 3\n",
    "df_group['t2_m'] = (df['t2p3'] + df['t2p4'] + df['t2p5'] + df['t2p6'] + df['t2p7']) / 5\n",
    "df_group['t2_b'] = (df['t2p8'] + df['t2p9'] + df['t2p10'] + df['t2p11'] + df['t2p12']) / 5\n",
    "df_group['t2_g'] = df['t2p13']\n",
    "\n",
    "## 加入阵形资讯\n",
    "df_group = pd.concat([df_group, pd.get_dummies(df[['t1form']],\n",
    "                                  prefix='t1form',dummy_na=True)], axis=1)\n",
    "df_group = pd.concat([df_group,pd.get_dummies(df[['t2form']],\n",
    "                                  prefix='t2form',dummy_na=True)], axis=1)\n",
    "\n",
    "\n",
    "df_group['win'] = df_new['win']\n",
    "\n",
    "positions = ['t1_f', 't1_m', 't1_b', 't1_g', 't2_f', 't2_m', 't2_b', 't2_g',\n",
    "             't1form_3-4-3', 't1form_3-5-2', 't1form_3-6-1', 't1form_4-2-2-2', \n",
    "             't1form_4-2-3-1', 't1form_4-3-2-1', 't1form_4-3-3', 't1form_4-4-2', \n",
    "             't1form_4-5-1', 't1form_5-3-2', 't1form_5-4-1', 't2form_3-4-3', \n",
    "             't2form_3-5-2', 't2form_3-6-1', 't2form_4-2-2-2', 't2form_4-2-3-1', \n",
    "             't2form_4-3-2-1', 't2form_4-3-3', 't2form_4-4-2', 't2form_4-5-1', \n",
    "             't2form_5-3-2', 't2form_5-4-1']"
   ]
  },
  {
   "cell_type": "code",
   "execution_count": 37,
   "metadata": {},
   "outputs": [],
   "source": [
    "X = df_group[positions].values\n",
    "y = df_group[['win']].values"
   ]
  },
  {
   "cell_type": "code",
   "execution_count": 38,
   "metadata": {},
   "outputs": [],
   "source": [
    "X_train, X_test, y_train, y_test = \\\n",
    "    train_test_split(X, y, test_size=0.3)\n",
    "\n",
    "model_position = XGBClassifier(nthread=-1)\n",
    "model_position.fit(X_train, y_train)\n",
    "test_pred = model_position.predict(X_test)"
   ]
  },
  {
   "cell_type": "markdown",
   "metadata": {},
   "source": [
    "### 栏位减少，准确率甚至还比原本好一点"
   ]
  },
  {
   "cell_type": "code",
   "execution_count": 39,
   "metadata": {},
   "outputs": [
    {
     "name": "stdout",
     "output_type": "stream",
     "text": [
      "准确率: 0.6968633333333333\n"
     ]
    }
   ],
   "source": [
    "acc = metrics.accuracy_score(y_test, test_pred)\n",
    "print('准确率:', acc)"
   ]
  },
  {
   "cell_type": "code",
   "execution_count": 40,
   "metadata": {},
   "outputs": [],
   "source": [
    "with open('fifa_model.pickle', 'wb') as handle:\n",
    "    pickle.dump(model_position, handle, protocol=pickle.HIGHEST_PROTOCOL)"
   ]
  },
  {
   "cell_type": "code",
   "execution_count": 41,
   "metadata": {},
   "outputs": [],
   "source": [
    "with open('fifa_model.pickle', 'rb') as handle:\n",
    "    model = pickle.load(handle)"
   ]
  },
  {
   "cell_type": "markdown",
   "metadata": {},
   "source": [
    "## 来预测对战胜负吧！"
   ]
  },
  {
   "cell_type": "code",
   "execution_count": 42,
   "metadata": {},
   "outputs": [],
   "source": [
    "form_list = ['3-4-3', '3-5-2', '3-6-1', '4-2-2-2', \n",
    "             '4-2-3-1', '4-3-2-1', '4-3-3', '4-4-2', \n",
    "             '4-5-1', '5-3-2', '5-4-1']\n",
    "position_list = ['f', 'm', 'b', 'g']"
   ]
  },
  {
   "cell_type": "code",
   "execution_count": 44,
   "metadata": {},
   "outputs": [
    {
     "name": "stdout",
     "output_type": "stream",
     "text": [
      "比赛结果：team1 获胜！获胜机率是：0.5906428098678589\n"
     ]
    }
   ],
   "source": [
    "def predict(team_1, team_2):\n",
    "    feature_len = (len(position_list) + len(form_list)) * 2\n",
    "    feature = [0] * feature_len\n",
    "    \n",
    "    ## 填入两队的各位置能力值\n",
    "    for idx, pos in enumerate(position_list):\n",
    "        feature[idx] = team_1[position_list[idx]]\n",
    "        feature[idx+4] = team_2[position_list[idx]]\n",
    "        \n",
    "    ## 填入两队的阵形安排\n",
    "    form_id_1 = form_list.index(team_1['form']) + len(position_list)*2\n",
    "    form_id_2 = form_list.index(team_2['form']) + len(position_list)*2 + len(form_list)\n",
    "    feature[form_id_1] = 1\n",
    "    feature[form_id_2] = 1\n",
    "    \n",
    "    ## 回传预测结果\n",
    "    return model.predict_proba(np.asarray(feature).reshape(1, feature_len))[0]\n",
    "    \n",
    "\n",
    "## 两队能力值及阵形    \n",
    "team_1 = {'f': 2.27, 'm': 6.76, 'b': 7.34, 'g': 10.0, 'form': '4-3-3'}\n",
    "team_2 = {'f': 2.48, 'm': 5.23, 'b': 3.34, 'g': 8.0, 'form': '4-3-3'}\n",
    "result = predict(team_1, team_2)\n",
    "\n",
    "win_team = 1\n",
    "if result[0] < result[1]:\n",
    "    win_team = 2\n",
    "\n",
    "print(f'比赛结果：team{win_team} 获胜！获胜机率是：{result[win_team - 1]}')"
   ]
  },
  {
   "cell_type": "markdown",
   "metadata": {},
   "source": [
    "### [试试看] 如果你是 team2 的教练，该这样束手就擒吗？"
   ]
  },
  {
   "cell_type": "code",
   "execution_count": null,
   "metadata": {},
   "outputs": [],
   "source": [
    "### 你会怎么做呢？\n",
    "\n"
   ]
  },
  {
   "cell_type": "code",
   "execution_count": 45,
   "metadata": {},
   "outputs": [
    {
     "name": "stdout",
     "output_type": "stream",
     "text": [
      "原來靠 5-3-2 陣形，就可以逆轉戰局了啊！！勝率為：0.5900010466575623\n"
     ]
    }
   ],
   "source": [
    "win_form = ''\n",
    "win_prob = -100\n",
    "for form in form_list:\n",
    "    team_2['form'] = form\n",
    "    prob = predict(team_1, team_2)[1]\n",
    "    if  prob > win_prob:\n",
    "        win_form = form\n",
    "        win_prob = prob\n",
    "    \n",
    "print(f'原來靠 {win_form} 陣形，就可以逆轉戰局了啊！！勝率為：{win_prob}')"
   ]
  },
  {
   "cell_type": "markdown",
   "metadata": {},
   "source": [
    "## 20 分钟想一个优化的方式，建立一个自创的模型\n",
    "\n",
    "* 创造一个新的栏位，再做训练，并观察结果\n",
    "* 你有办法预测胜分差吗？ (是哪一种问题？分类、回归、聚类)\n",
    "    * 参考范例：https://scikit-learn.org/stable/modules/generated/sklearn.linear_model.LinearRegression.html\n",
    "* 模拟4个球队数据，打一个小小世界杯，并观察对战顺序改变，结果是否不同？"
   ]
  },
  {
   "cell_type": "code",
   "execution_count": null,
   "metadata": {},
   "outputs": [],
   "source": []
  },
  {
   "cell_type": "code",
   "execution_count": null,
   "metadata": {},
   "outputs": [],
   "source": []
  }
 ],
 "metadata": {
  "kernelspec": {
   "display_name": "conda_python3",
   "language": "python",
   "name": "conda_python3"
  },
  "language_info": {
   "codemirror_mode": {
    "name": "ipython",
    "version": 3
   },
   "file_extension": ".py",
   "mimetype": "text/x-python",
   "name": "python",
   "nbconvert_exporter": "python",
   "pygments_lexer": "ipython3",
   "version": "3.6.5"
  }
 },
 "nbformat": 4,
 "nbformat_minor": 2
}
