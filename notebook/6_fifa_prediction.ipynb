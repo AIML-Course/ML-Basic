{
 "cells": [
  {
   "cell_type": "markdown",
   "metadata": {},
   "source": [
    "## FIFA (水果)盃足球賽開打了，你有辦法預測比賽的勝負嗎？"
   ]
  },
  {
   "cell_type": "markdown",
   "metadata": {},
   "source": [
    "> 本次資料集搜集了`一百萬`場比賽的勝負數據，以及該場比賽`兩隊的陣勢`，以及每個位置`球員的能力值`\n",
    "\n",
    "***期望各位數據科學家們，找到其中的蛛絲馬跡，掌握比賽的勝負！***"
   ]
  },
  {
   "cell_type": "code",
   "execution_count": 42,
   "metadata": {},
   "outputs": [],
   "source": [
    "import numpy as np\n",
    "import pandas as pd\n",
    "from sklearn import preprocessing\n",
    "import warnings\n",
    "import seaborn as sns\n",
    "import collections\n",
    "import matplotlib.pyplot as plt\n",
    "warnings.filterwarnings('ignore')"
   ]
  },
  {
   "cell_type": "code",
   "execution_count": 102,
   "metadata": {},
   "outputs": [],
   "source": [
    "df = pd.read_csv('./fifa-predict/data/totalScore_1121_2.csv')"
   ]
  },
  {
   "cell_type": "code",
   "execution_count": 103,
   "metadata": {},
   "outputs": [
    {
     "data": {
      "text/html": [
       "<div>\n",
       "<style scoped>\n",
       "    .dataframe tbody tr th:only-of-type {\n",
       "        vertical-align: middle;\n",
       "    }\n",
       "\n",
       "    .dataframe tbody tr th {\n",
       "        vertical-align: top;\n",
       "    }\n",
       "\n",
       "    .dataframe thead th {\n",
       "        text-align: right;\n",
       "    }\n",
       "</style>\n",
       "<table border=\"1\" class=\"dataframe\">\n",
       "  <thead>\n",
       "    <tr style=\"text-align: right;\">\n",
       "      <th></th>\n",
       "      <th>t1form</th>\n",
       "      <th>t1p0</th>\n",
       "      <th>t1p1</th>\n",
       "      <th>t1p2</th>\n",
       "      <th>t1p3</th>\n",
       "      <th>t1p4</th>\n",
       "      <th>t1p5</th>\n",
       "      <th>t1p6</th>\n",
       "      <th>t1p7</th>\n",
       "      <th>t1p8</th>\n",
       "      <th>...</th>\n",
       "      <th>t2p7</th>\n",
       "      <th>t2p8</th>\n",
       "      <th>t2p9</th>\n",
       "      <th>t2p10</th>\n",
       "      <th>t2p11</th>\n",
       "      <th>t2p12</th>\n",
       "      <th>t2p13</th>\n",
       "      <th>t1Score</th>\n",
       "      <th>t2Score</th>\n",
       "      <th>winner</th>\n",
       "    </tr>\n",
       "  </thead>\n",
       "  <tbody>\n",
       "    <tr>\n",
       "      <th>0</th>\n",
       "      <td>3-5-2</td>\n",
       "      <td>6.0</td>\n",
       "      <td>8.2</td>\n",
       "      <td>6.9</td>\n",
       "      <td>6.6</td>\n",
       "      <td>9.9</td>\n",
       "      <td>5.1</td>\n",
       "      <td>5.7</td>\n",
       "      <td>6.4</td>\n",
       "      <td>5.2</td>\n",
       "      <td>...</td>\n",
       "      <td>6.7</td>\n",
       "      <td>8.4</td>\n",
       "      <td>5.6</td>\n",
       "      <td>7.2</td>\n",
       "      <td>8.0</td>\n",
       "      <td>8.9</td>\n",
       "      <td>6.8</td>\n",
       "      <td>1</td>\n",
       "      <td>2</td>\n",
       "      <td>2</td>\n",
       "    </tr>\n",
       "    <tr>\n",
       "      <th>1</th>\n",
       "      <td>3-4-3</td>\n",
       "      <td>7.0</td>\n",
       "      <td>7.3</td>\n",
       "      <td>8.2</td>\n",
       "      <td>5.2</td>\n",
       "      <td>7.3</td>\n",
       "      <td>9.9</td>\n",
       "      <td>5.9</td>\n",
       "      <td>5.5</td>\n",
       "      <td>7.2</td>\n",
       "      <td>...</td>\n",
       "      <td>6.3</td>\n",
       "      <td>7.4</td>\n",
       "      <td>9.0</td>\n",
       "      <td>8.9</td>\n",
       "      <td>6.9</td>\n",
       "      <td>5.5</td>\n",
       "      <td>8.1</td>\n",
       "      <td>2</td>\n",
       "      <td>4</td>\n",
       "      <td>2</td>\n",
       "    </tr>\n",
       "    <tr>\n",
       "      <th>2</th>\n",
       "      <td>4-5-1</td>\n",
       "      <td>5.4</td>\n",
       "      <td>9.8</td>\n",
       "      <td>7.2</td>\n",
       "      <td>9.2</td>\n",
       "      <td>6.9</td>\n",
       "      <td>8.3</td>\n",
       "      <td>7.8</td>\n",
       "      <td>8.4</td>\n",
       "      <td>6.4</td>\n",
       "      <td>...</td>\n",
       "      <td>9.5</td>\n",
       "      <td>7.5</td>\n",
       "      <td>9.2</td>\n",
       "      <td>9.2</td>\n",
       "      <td>6.7</td>\n",
       "      <td>9.9</td>\n",
       "      <td>5.1</td>\n",
       "      <td>0</td>\n",
       "      <td>1</td>\n",
       "      <td>2</td>\n",
       "    </tr>\n",
       "    <tr>\n",
       "      <th>3</th>\n",
       "      <td>4-3-3</td>\n",
       "      <td>9.6</td>\n",
       "      <td>9.8</td>\n",
       "      <td>8.1</td>\n",
       "      <td>9.3</td>\n",
       "      <td>6.3</td>\n",
       "      <td>7.7</td>\n",
       "      <td>5.4</td>\n",
       "      <td>5.7</td>\n",
       "      <td>6.1</td>\n",
       "      <td>...</td>\n",
       "      <td>7.2</td>\n",
       "      <td>9.7</td>\n",
       "      <td>7.7</td>\n",
       "      <td>7.2</td>\n",
       "      <td>9.4</td>\n",
       "      <td>6.5</td>\n",
       "      <td>9.3</td>\n",
       "      <td>2</td>\n",
       "      <td>4</td>\n",
       "      <td>2</td>\n",
       "    </tr>\n",
       "    <tr>\n",
       "      <th>4</th>\n",
       "      <td>3-6-1</td>\n",
       "      <td>7.2</td>\n",
       "      <td>6.2</td>\n",
       "      <td>7.8</td>\n",
       "      <td>7.5</td>\n",
       "      <td>7.8</td>\n",
       "      <td>8.9</td>\n",
       "      <td>5.4</td>\n",
       "      <td>7.3</td>\n",
       "      <td>7.4</td>\n",
       "      <td>...</td>\n",
       "      <td>6.8</td>\n",
       "      <td>9.4</td>\n",
       "      <td>6.9</td>\n",
       "      <td>7.8</td>\n",
       "      <td>6.6</td>\n",
       "      <td>6.1</td>\n",
       "      <td>6.0</td>\n",
       "      <td>4</td>\n",
       "      <td>6</td>\n",
       "      <td>2</td>\n",
       "    </tr>\n",
       "  </tbody>\n",
       "</table>\n",
       "<p>5 rows × 33 columns</p>\n",
       "</div>"
      ],
      "text/plain": [
       "  t1form  t1p0  t1p1  t1p2  t1p3  t1p4  t1p5  t1p6  t1p7  t1p8  ...  t2p7  \\\n",
       "0  3-5-2   6.0   8.2   6.9   6.6   9.9   5.1   5.7   6.4   5.2  ...   6.7   \n",
       "1  3-4-3   7.0   7.3   8.2   5.2   7.3   9.9   5.9   5.5   7.2  ...   6.3   \n",
       "2  4-5-1   5.4   9.8   7.2   9.2   6.9   8.3   7.8   8.4   6.4  ...   9.5   \n",
       "3  4-3-3   9.6   9.8   8.1   9.3   6.3   7.7   5.4   5.7   6.1  ...   7.2   \n",
       "4  3-6-1   7.2   6.2   7.8   7.5   7.8   8.9   5.4   7.3   7.4  ...   6.8   \n",
       "\n",
       "   t2p8  t2p9  t2p10  t2p11 t2p12  t2p13  t1Score  t2Score  winner  \n",
       "0   8.4   5.6    7.2    8.0   8.9    6.8        1        2       2  \n",
       "1   7.4   9.0    8.9    6.9   5.5    8.1        2        4       2  \n",
       "2   7.5   9.2    9.2    6.7   9.9    5.1        0        1       2  \n",
       "3   9.7   7.7    7.2    9.4   6.5    9.3        2        4       2  \n",
       "4   9.4   6.9    7.8    6.6   6.1    6.0        4        6       2  \n",
       "\n",
       "[5 rows x 33 columns]"
      ]
     },
     "execution_count": 103,
     "metadata": {},
     "output_type": "execute_result"
    }
   ],
   "source": [
    "df.head()"
   ]
  },
  {
   "cell_type": "code",
   "execution_count": 105,
   "metadata": {},
   "outputs": [
    {
     "data": {
      "text/plain": [
       "Index(['t1form', 't1p0', 't1p1', 't1p2', 't1p3', 't1p4', 't1p5', 't1p6',\n",
       "       't1p7', 't1p8', 't1p9', 't1p10', 't1p11', 't1p12', 't1p13', 't2form',\n",
       "       't2p0', 't2p1', 't2p2', 't2p3', 't2p4', 't2p5', 't2p6', 't2p7', 't2p8',\n",
       "       't2p9', 't2p10', 't2p11', 't2p12', 't2p13', 't1Score', 't2Score',\n",
       "       'winner'],\n",
       "      dtype='object')"
      ]
     },
     "execution_count": 105,
     "metadata": {},
     "output_type": "execute_result"
    }
   ],
   "source": [
    "df.columns"
   ]
  },
  {
   "cell_type": "markdown",
   "metadata": {},
   "source": [
    "### 欄位說明\n",
    "\n",
    "* `t1` 代表第一隊， `t2` 代表第二隊\n",
    "* `p0 - p13` 代表球場上的 13 名球員，位置先不透露\n",
    "* `t1Score` 是第一隊分數 `t2Score` 是第二隊分數\n",
    "* `winner` 1 代表第一隊贏，2 代表第二隊贏 "
   ]
  },
  {
   "cell_type": "code",
   "execution_count": 5,
   "metadata": {},
   "outputs": [
    {
     "name": "stdout",
     "output_type": "stream",
     "text": [
      "一共有 1000000 場比賽資料，包含 33 個欄位 \n"
     ]
    }
   ],
   "source": [
    "print(f'一共有 {df.shape[0]} 場比賽資料，包含 {df.shape[1]} 個欄位 ')"
   ]
  },
  {
   "cell_type": "markdown",
   "metadata": {},
   "source": [
    "### 首先想看看分數的差距，跟特徵的相關性，先加入差距欄位"
   ]
  },
  {
   "cell_type": "code",
   "execution_count": 6,
   "metadata": {},
   "outputs": [],
   "source": [
    "df['diff'] = df.apply(lambda row: abs(row['t1Score'] - row['t2Score']), axis=1)"
   ]
  },
  {
   "cell_type": "markdown",
   "metadata": {},
   "source": [
    "### [簡化資料] 賽事結果是相對的，試試看先只考慮相對位置能力值的差距"
   ]
  },
  {
   "cell_type": "code",
   "execution_count": 51,
   "metadata": {},
   "outputs": [],
   "source": [
    "df_new = pd.DataFrame()\n",
    "\n",
    "for i in range(0, 14):\n",
    "    t1_col = 't1p' + str(i)\n",
    "    t2_col = 't2p' + str(i)\n",
    "    df_new['p' + str(i)] = df[t1_col] - df[t2_col]\n",
    "    \n",
    "df_new['score'] = df['t1Score'] - df['t2Score']\n",
    "df_new['win'] = [1 if x == 1 else 0 for x in df['winner']] "
   ]
  },
  {
   "cell_type": "code",
   "execution_count": 32,
   "metadata": {},
   "outputs": [
    {
     "data": {
      "text/html": [
       "<div>\n",
       "<style scoped>\n",
       "    .dataframe tbody tr th:only-of-type {\n",
       "        vertical-align: middle;\n",
       "    }\n",
       "\n",
       "    .dataframe tbody tr th {\n",
       "        vertical-align: top;\n",
       "    }\n",
       "\n",
       "    .dataframe thead th {\n",
       "        text-align: right;\n",
       "    }\n",
       "</style>\n",
       "<table border=\"1\" class=\"dataframe\">\n",
       "  <thead>\n",
       "    <tr style=\"text-align: right;\">\n",
       "      <th></th>\n",
       "      <th>p0</th>\n",
       "      <th>p1</th>\n",
       "      <th>p2</th>\n",
       "      <th>p3</th>\n",
       "      <th>p4</th>\n",
       "      <th>p5</th>\n",
       "      <th>p6</th>\n",
       "      <th>p7</th>\n",
       "      <th>p8</th>\n",
       "      <th>p9</th>\n",
       "      <th>...</th>\n",
       "      <th>t2form_3-5-2</th>\n",
       "      <th>t2form_3-6-1</th>\n",
       "      <th>t2form_4-2-2-2</th>\n",
       "      <th>t2form_4-2-3-1</th>\n",
       "      <th>t2form_4-3-2-1</th>\n",
       "      <th>t2form_4-3-3</th>\n",
       "      <th>t2form_4-4-2</th>\n",
       "      <th>t2form_4-5-1</th>\n",
       "      <th>t2form_5-3-2</th>\n",
       "      <th>t2form_5-4-1</th>\n",
       "    </tr>\n",
       "  </thead>\n",
       "  <tbody>\n",
       "    <tr>\n",
       "      <th>0</th>\n",
       "      <td>0.2</td>\n",
       "      <td>1.9</td>\n",
       "      <td>-2.4</td>\n",
       "      <td>-3.3</td>\n",
       "      <td>3.6</td>\n",
       "      <td>-4.3</td>\n",
       "      <td>-1.1</td>\n",
       "      <td>-0.3</td>\n",
       "      <td>-3.2</td>\n",
       "      <td>2.8</td>\n",
       "      <td>...</td>\n",
       "      <td>0</td>\n",
       "      <td>0</td>\n",
       "      <td>1</td>\n",
       "      <td>0</td>\n",
       "      <td>0</td>\n",
       "      <td>0</td>\n",
       "      <td>0</td>\n",
       "      <td>0</td>\n",
       "      <td>0</td>\n",
       "      <td>0</td>\n",
       "    </tr>\n",
       "    <tr>\n",
       "      <th>1</th>\n",
       "      <td>-1.1</td>\n",
       "      <td>-0.2</td>\n",
       "      <td>-0.8</td>\n",
       "      <td>-1.5</td>\n",
       "      <td>1.8</td>\n",
       "      <td>0.5</td>\n",
       "      <td>-0.7</td>\n",
       "      <td>-0.8</td>\n",
       "      <td>-0.2</td>\n",
       "      <td>-2.3</td>\n",
       "      <td>...</td>\n",
       "      <td>0</td>\n",
       "      <td>0</td>\n",
       "      <td>0</td>\n",
       "      <td>1</td>\n",
       "      <td>0</td>\n",
       "      <td>0</td>\n",
       "      <td>0</td>\n",
       "      <td>0</td>\n",
       "      <td>0</td>\n",
       "      <td>0</td>\n",
       "    </tr>\n",
       "    <tr>\n",
       "      <th>2</th>\n",
       "      <td>-3.6</td>\n",
       "      <td>4.1</td>\n",
       "      <td>-0.5</td>\n",
       "      <td>-0.1</td>\n",
       "      <td>0.3</td>\n",
       "      <td>2.1</td>\n",
       "      <td>-0.5</td>\n",
       "      <td>-1.1</td>\n",
       "      <td>-1.1</td>\n",
       "      <td>-3.7</td>\n",
       "      <td>...</td>\n",
       "      <td>1</td>\n",
       "      <td>0</td>\n",
       "      <td>0</td>\n",
       "      <td>0</td>\n",
       "      <td>0</td>\n",
       "      <td>0</td>\n",
       "      <td>0</td>\n",
       "      <td>0</td>\n",
       "      <td>0</td>\n",
       "      <td>0</td>\n",
       "    </tr>\n",
       "    <tr>\n",
       "      <th>3</th>\n",
       "      <td>0.8</td>\n",
       "      <td>4.7</td>\n",
       "      <td>0.6</td>\n",
       "      <td>0.6</td>\n",
       "      <td>1.1</td>\n",
       "      <td>1.6</td>\n",
       "      <td>-2.2</td>\n",
       "      <td>-1.5</td>\n",
       "      <td>-3.6</td>\n",
       "      <td>-1.5</td>\n",
       "      <td>...</td>\n",
       "      <td>1</td>\n",
       "      <td>0</td>\n",
       "      <td>0</td>\n",
       "      <td>0</td>\n",
       "      <td>0</td>\n",
       "      <td>0</td>\n",
       "      <td>0</td>\n",
       "      <td>0</td>\n",
       "      <td>0</td>\n",
       "      <td>0</td>\n",
       "    </tr>\n",
       "    <tr>\n",
       "      <th>4</th>\n",
       "      <td>-2.4</td>\n",
       "      <td>-1.2</td>\n",
       "      <td>0.6</td>\n",
       "      <td>-0.1</td>\n",
       "      <td>0.0</td>\n",
       "      <td>1.7</td>\n",
       "      <td>-4.4</td>\n",
       "      <td>0.5</td>\n",
       "      <td>-2.0</td>\n",
       "      <td>-0.4</td>\n",
       "      <td>...</td>\n",
       "      <td>1</td>\n",
       "      <td>0</td>\n",
       "      <td>0</td>\n",
       "      <td>0</td>\n",
       "      <td>0</td>\n",
       "      <td>0</td>\n",
       "      <td>0</td>\n",
       "      <td>0</td>\n",
       "      <td>0</td>\n",
       "      <td>0</td>\n",
       "    </tr>\n",
       "  </tbody>\n",
       "</table>\n",
       "<p>5 rows × 38 columns</p>\n",
       "</div>"
      ],
      "text/plain": [
       "    p0   p1   p2   p3   p4   p5   p6   p7   p8   p9  ...  t2form_3-5-2  \\\n",
       "0  0.2  1.9 -2.4 -3.3  3.6 -4.3 -1.1 -0.3 -3.2  2.8  ...             0   \n",
       "1 -1.1 -0.2 -0.8 -1.5  1.8  0.5 -0.7 -0.8 -0.2 -2.3  ...             0   \n",
       "2 -3.6  4.1 -0.5 -0.1  0.3  2.1 -0.5 -1.1 -1.1 -3.7  ...             1   \n",
       "3  0.8  4.7  0.6  0.6  1.1  1.6 -2.2 -1.5 -3.6 -1.5  ...             1   \n",
       "4 -2.4 -1.2  0.6 -0.1  0.0  1.7 -4.4  0.5 -2.0 -0.4  ...             1   \n",
       "\n",
       "   t2form_3-6-1  t2form_4-2-2-2  t2form_4-2-3-1  t2form_4-3-2-1  t2form_4-3-3  \\\n",
       "0             0               1               0               0             0   \n",
       "1             0               0               1               0             0   \n",
       "2             0               0               0               0             0   \n",
       "3             0               0               0               0             0   \n",
       "4             0               0               0               0             0   \n",
       "\n",
       "   t2form_4-4-2  t2form_4-5-1  t2form_5-3-2  t2form_5-4-1  \n",
       "0             0             0             0             0  \n",
       "1             0             0             0             0  \n",
       "2             0             0             0             0  \n",
       "3             0             0             0             0  \n",
       "4             0             0             0             0  \n",
       "\n",
       "[5 rows x 38 columns]"
      ]
     },
     "execution_count": 32,
     "metadata": {},
     "output_type": "execute_result"
    }
   ],
   "source": [
    "df_new.head()"
   ]
  },
  {
   "cell_type": "code",
   "execution_count": 46,
   "metadata": {},
   "outputs": [
    {
     "name": "stdout",
     "output_type": "stream",
     "text": [
      "第一隊贏了 499792 次，輸了 500208 次\n"
     ]
    }
   ],
   "source": [
    "result = dict(collections.Counter(df_new['win']))\n",
    "print(f'第一隊贏了 {result[1]} 次，輸了 {result[0]} 次')"
   ]
  },
  {
   "cell_type": "code",
   "execution_count": 8,
   "metadata": {},
   "outputs": [],
   "source": [
    "train_features = ['p0', 'p1', 'p2', 'p3', 'p4', 'p5', 'p6', 'p7', 'p8', 'p9', 'p10', 'p11', 'p12', 'p13']"
   ]
  },
  {
   "cell_type": "code",
   "execution_count": 9,
   "metadata": {},
   "outputs": [],
   "source": [
    "X = df_new[train_features].values\n",
    "y = df_new[['win']].values"
   ]
  },
  {
   "cell_type": "markdown",
   "metadata": {},
   "source": [
    "### xgboost 是分類演算法神器，不確定怎麼用就先套這個吧！"
   ]
  },
  {
   "cell_type": "code",
   "execution_count": 34,
   "metadata": {},
   "outputs": [],
   "source": [
    "from xgboost import XGBClassifier\n",
    "from sklearn.model_selection import train_test_split\n",
    "from sklearn import metrics"
   ]
  },
  {
   "cell_type": "markdown",
   "metadata": {},
   "source": [
    "### 切分訓練集以及測試集"
   ]
  },
  {
   "cell_type": "code",
   "execution_count": 11,
   "metadata": {},
   "outputs": [],
   "source": [
    "X_train, X_test, y_train, y_test = \\\n",
    "    train_test_split(X, y, test_size=0.3)"
   ]
  },
  {
   "cell_type": "code",
   "execution_count": 12,
   "metadata": {},
   "outputs": [
    {
     "data": {
      "text/plain": [
       "XGBClassifier(base_score=0.5, booster='gbtree', colsample_bylevel=1,\n",
       "       colsample_bynode=1, colsample_bytree=1, gamma=0, learning_rate=0.1,\n",
       "       max_delta_step=0, max_depth=3, min_child_weight=1, missing=None,\n",
       "       n_estimators=100, n_jobs=1, nthread=-1, objective='binary:logistic',\n",
       "       random_state=0, reg_alpha=0, reg_lambda=1, scale_pos_weight=1,\n",
       "       seed=None, silent=None, subsample=1, verbosity=1)"
      ]
     },
     "execution_count": 12,
     "metadata": {},
     "output_type": "execute_result"
    }
   ],
   "source": [
    "model = XGBClassifier(nthread=-1)\n",
    "model.fit(X_train, y_train)"
   ]
  },
  {
   "cell_type": "code",
   "execution_count": 14,
   "metadata": {},
   "outputs": [
    {
     "name": "stdout",
     "output_type": "stream",
     "text": [
      "準確率: 0.6522933333333333\n"
     ]
    }
   ],
   "source": [
    "test_pred = model.predict(X_test)\n",
    "acc = metrics.accuracy_score(y_test, test_pred)\n",
    "print('牛刀小試一下，準確率:', acc)"
   ]
  },
  {
   "cell_type": "markdown",
   "metadata": {},
   "source": [
    "## [動動腦] 學習機器學習不能知道準確性偏誤的可怕\n",
    "\n",
    "> 某種疾病，每一千個患者才出現一名陽性反應，如今導入一個號稱準確率 99.9% 的神奇模型，請問該怎麼做？\n",
    "\n",
    "Ans. 全部猜陰性就好！"
   ]
  },
  {
   "cell_type": "code",
   "execution_count": 48,
   "metadata": {},
   "outputs": [
    {
     "name": "stdout",
     "output_type": "stream",
     "text": [
      "第一隊真的贏了，模型也猜對的有 103740 次\n",
      "第一隊真的贏了，模型猜輸的有   46069 次\n",
      "第一隊真的輸了，模型也猜對的有 103316 次\n",
      "第一隊真的輸了，模型猜贏的有   46875 次\n"
     ]
    }
   ],
   "source": [
    "tn, fp, fn, tp = metrics.confusion_matrix(y_test, test_pred).ravel()\n",
    "\n",
    "print(f'第一隊真的贏了，模型也猜對的有 {tp} 次')\n",
    "print(f'第一隊真的贏了，模型猜輸的有   {fn} 次')\n",
    "print(f'第一隊真的輸了，模型也猜對的有 {tn} 次')\n",
    "print(f'第一隊真的輸了，模型猜贏的有   {fp} 次')"
   ]
  },
  {
   "cell_type": "markdown",
   "metadata": {},
   "source": [
    "### 如果把陣型考慮進去呢？"
   ]
  },
  {
   "cell_type": "code",
   "execution_count": 52,
   "metadata": {},
   "outputs": [],
   "source": [
    "df_new = pd.concat([df_new, pd.get_dummies(df[['t1form']],\n",
    "                                  prefix='t1form',dummy_na=True)], axis=1)\n",
    "df_new = pd.concat([df_new,pd.get_dummies(df[['t2form']],\n",
    "                                  prefix='t2form',dummy_na=True)], axis=1)\n",
    "\n",
    "df_new = df_new.drop(['t2form_nan','t1form_nan'], axis=1)"
   ]
  },
  {
   "cell_type": "markdown",
   "metadata": {},
   "source": [
    "### 欄位突然變這麼多！"
   ]
  },
  {
   "cell_type": "code",
   "execution_count": 53,
   "metadata": {},
   "outputs": [
    {
     "data": {
      "text/plain": [
       "Index(['p0', 'p1', 'p2', 'p3', 'p4', 'p5', 'p6', 'p7', 'p8', 'p9', 'p10',\n",
       "       'p11', 'p12', 'p13', 'score', 'win', 't1form_3-4-3', 't1form_3-5-2',\n",
       "       't1form_3-6-1', 't1form_4-2-2-2', 't1form_4-2-3-1', 't1form_4-3-2-1',\n",
       "       't1form_4-3-3', 't1form_4-4-2', 't1form_4-5-1', 't1form_5-3-2',\n",
       "       't1form_5-4-1', 't2form_3-4-3', 't2form_3-5-2', 't2form_3-6-1',\n",
       "       't2form_4-2-2-2', 't2form_4-2-3-1', 't2form_4-3-2-1', 't2form_4-3-3',\n",
       "       't2form_4-4-2', 't2form_4-5-1', 't2form_5-3-2', 't2form_5-4-1'],\n",
       "      dtype='object')"
      ]
     },
     "execution_count": 53,
     "metadata": {},
     "output_type": "execute_result"
    }
   ],
   "source": [
    "df_new.columns"
   ]
  },
  {
   "cell_type": "markdown",
   "metadata": {},
   "source": [
    "### [動動腦] 如果給模型這樣的訓練資料，會有什麼重大問題\n",
    "\n",
    "* `team1_type` 代表第一隊的陣勢\n",
    "* `team2_type` 代表第二隊的陣勢\n",
    "\n",
    "\n",
    "| p0 | p1 | p2 | p3 | team1_type | team2_type |\n",
    "|---|---|---|---|---|---|\n",
    "| 0.2 | 2.1 | -0.1 | 4.1 | 1 | 2 |\n",
    "| 1.3 | 0.5 | 3.0 | 2.5 | 3 | 1 |\n",
    "| 4.1 | 0.8 | 2.3 | -1.1 | 2 | 3 |\n",
    "\n",
    "\n",
    "Ans. 模型並不知道 `team1_type` 以及 `team2_type` 是類別型的資料，會認為 1, 2, 3, ... 之間數字大小是有距離關係的！\n",
    "\n",
    "   ==> 透過 `get_dummies` 轉換成，多欄位的 `類別型資料`，專業的術語稱作為 `one-hot` 編碼\n",
    "   \n",
    "***如以下所見，全部只有 0 和 1***"
   ]
  },
  {
   "cell_type": "code",
   "execution_count": 50,
   "metadata": {},
   "outputs": [
    {
     "data": {
      "text/html": [
       "<div>\n",
       "<style scoped>\n",
       "    .dataframe tbody tr th:only-of-type {\n",
       "        vertical-align: middle;\n",
       "    }\n",
       "\n",
       "    .dataframe tbody tr th {\n",
       "        vertical-align: top;\n",
       "    }\n",
       "\n",
       "    .dataframe thead th {\n",
       "        text-align: right;\n",
       "    }\n",
       "</style>\n",
       "<table border=\"1\" class=\"dataframe\">\n",
       "  <thead>\n",
       "    <tr style=\"text-align: right;\">\n",
       "      <th></th>\n",
       "      <th>t1form_3-6-1</th>\n",
       "      <th>t1form_3-4-3</th>\n",
       "      <th>t1form_3-5-2</th>\n",
       "      <th>t1form_4-2-2-2</th>\n",
       "      <th>t1form_4-3-3</th>\n",
       "      <th>t1form_4-4-2</th>\n",
       "    </tr>\n",
       "  </thead>\n",
       "  <tbody>\n",
       "    <tr>\n",
       "      <th>0</th>\n",
       "      <td>0</td>\n",
       "      <td>0</td>\n",
       "      <td>1</td>\n",
       "      <td>0</td>\n",
       "      <td>0</td>\n",
       "      <td>0</td>\n",
       "    </tr>\n",
       "    <tr>\n",
       "      <th>1</th>\n",
       "      <td>0</td>\n",
       "      <td>1</td>\n",
       "      <td>0</td>\n",
       "      <td>0</td>\n",
       "      <td>0</td>\n",
       "      <td>0</td>\n",
       "    </tr>\n",
       "    <tr>\n",
       "      <th>2</th>\n",
       "      <td>0</td>\n",
       "      <td>0</td>\n",
       "      <td>0</td>\n",
       "      <td>0</td>\n",
       "      <td>0</td>\n",
       "      <td>0</td>\n",
       "    </tr>\n",
       "    <tr>\n",
       "      <th>3</th>\n",
       "      <td>0</td>\n",
       "      <td>0</td>\n",
       "      <td>0</td>\n",
       "      <td>0</td>\n",
       "      <td>1</td>\n",
       "      <td>0</td>\n",
       "    </tr>\n",
       "    <tr>\n",
       "      <th>4</th>\n",
       "      <td>1</td>\n",
       "      <td>0</td>\n",
       "      <td>0</td>\n",
       "      <td>0</td>\n",
       "      <td>0</td>\n",
       "      <td>0</td>\n",
       "    </tr>\n",
       "  </tbody>\n",
       "</table>\n",
       "</div>"
      ],
      "text/plain": [
       "   t1form_3-6-1  t1form_3-4-3  t1form_3-5-2  t1form_4-2-2-2  t1form_4-3-3  \\\n",
       "0             0             0             1               0             0   \n",
       "1             0             1             0               0             0   \n",
       "2             0             0             0               0             0   \n",
       "3             0             0             0               0             1   \n",
       "4             1             0             0               0             0   \n",
       "\n",
       "   t1form_4-4-2  \n",
       "0             0  \n",
       "1             0  \n",
       "2             0  \n",
       "3             0  \n",
       "4             0  "
      ]
     },
     "execution_count": 50,
     "metadata": {},
     "output_type": "execute_result"
    }
   ],
   "source": [
    "df_new[['t1form_3-6-1','t1form_3-4-3','t1form_3-5-2','t1form_4-2-2-2','t1form_4-3-3','t1form_4-4-2']].head()"
   ]
  },
  {
   "cell_type": "markdown",
   "metadata": {},
   "source": [
    "### 取得目前所有可供訓練的屬性"
   ]
  },
  {
   "cell_type": "code",
   "execution_count": 22,
   "metadata": {},
   "outputs": [
    {
     "name": "stdout",
     "output_type": "stream",
     "text": [
      "['p0', 'p1', 'p2', 'p3', 'p4', 'p5', 'p6', 'p7', 'p8', 'p9', 'p10', 'p11', 'p12', 'p13', 't1form_3-4-3', 't1form_3-5-2', 't1form_3-6-1', 't1form_4-2-2-2', 't1form_4-2-3-1', 't1form_4-3-2-1', 't1form_4-3-3', 't1form_4-4-2', 't1form_4-5-1', 't1form_5-3-2', 't1form_5-4-1', 't2form_3-4-3', 't2form_3-5-2', 't2form_3-6-1', 't2form_4-2-2-2', 't2form_4-2-3-1', 't2form_4-3-2-1', 't2form_4-3-3', 't2form_4-4-2', 't2form_4-5-1', 't2form_5-3-2', 't2form_5-4-1']\n"
     ]
    }
   ],
   "source": [
    "for col in df_new.columns:\n",
    "    if col.startswith('t'):\n",
    "        train_features.append(col)\n",
    "        \n",
    "print(train_features)"
   ]
  },
  {
   "cell_type": "markdown",
   "metadata": {},
   "source": [
    "### 再做一次訓練看看"
   ]
  },
  {
   "cell_type": "code",
   "execution_count": 56,
   "metadata": {},
   "outputs": [],
   "source": [
    "X = df_new[train_features].values\n",
    "y = df_new[['win']].values"
   ]
  },
  {
   "cell_type": "code",
   "execution_count": 57,
   "metadata": {},
   "outputs": [],
   "source": [
    "X_train, X_test, y_train, y_test = \\\n",
    "    train_test_split(X, y, test_size=0.3)"
   ]
  },
  {
   "cell_type": "code",
   "execution_count": 58,
   "metadata": {},
   "outputs": [
    {
     "data": {
      "text/plain": [
       "XGBClassifier(base_score=0.5, booster='gbtree', colsample_bylevel=1,\n",
       "       colsample_bynode=1, colsample_bytree=1, gamma=0, learning_rate=0.1,\n",
       "       max_delta_step=0, max_depth=3, min_child_weight=1, missing=None,\n",
       "       n_estimators=100, n_jobs=1, nthread=-1, objective='binary:logistic',\n",
       "       random_state=0, reg_alpha=0, reg_lambda=1, scale_pos_weight=1,\n",
       "       seed=None, silent=None, subsample=1, verbosity=1)"
      ]
     },
     "execution_count": 58,
     "metadata": {},
     "output_type": "execute_result"
    }
   ],
   "source": [
    "model_addForm = XGBClassifier(nthread=-1)\n",
    "model_addForm.fit(X_train, y_train)"
   ]
  },
  {
   "cell_type": "code",
   "execution_count": 59,
   "metadata": {},
   "outputs": [
    {
     "name": "stdout",
     "output_type": "stream",
     "text": [
      "準確率: 0.6901333333333334\n"
     ]
    }
   ],
   "source": [
    "test_pred = model_addForm.predict(X_test)\n",
    "acc = metrics.accuracy_score(y_test, test_pred)\n",
    "print('準確率:', acc)"
   ]
  },
  {
   "cell_type": "markdown",
   "metadata": {},
   "source": [
    "### 觀察一下欄位重要性"
   ]
  },
  {
   "cell_type": "code",
   "execution_count": 66,
   "metadata": {},
   "outputs": [],
   "source": [
    "importances_df = pd.DataFrame()\n",
    "\n",
    "for value, name in zip(model_addForm.feature_importances_, train_features):\n",
    "    importances_df = importances_df.append({'feature': name, 'value': value}, ignore_index=True)"
   ]
  },
  {
   "cell_type": "code",
   "execution_count": 70,
   "metadata": {},
   "outputs": [],
   "source": [
    "importances_df = importances_df.sort_values(['value'],\n",
    "                    ascending=[False]).reset_index(drop=True)"
   ]
  },
  {
   "cell_type": "code",
   "execution_count": 72,
   "metadata": {},
   "outputs": [
    {
     "data": {
      "image/png": "[encoded data removed]",
      "text/plain": [
       "<Figure size 432x288 with 1 Axes>"
      ]
     },
     "metadata": {},
     "output_type": "display_data"
    }
   ],
   "source": [
    "ax = sns.barplot(x=\"value\", y=\"feature\", data=importances_df.iloc[0:10])"
   ]
  },
  {
   "cell_type": "markdown",
   "metadata": {},
   "source": [
    "## 加入提示\n",
    "\n",
    "* 球員位置分配： p0-p2 前鋒、p3-p7 中場、p8-p12 後衛、p13 守門員"
   ]
  },
  {
   "cell_type": "code",
   "execution_count": 91,
   "metadata": {},
   "outputs": [
    {
     "name": "stdout",
     "output_type": "stream",
     "text": [
      "當第一隊擺出 `4-5-1` 陣形時，贏了 28041 場，輸了 62825 場\n",
      "當第一隊擺出 `3-6-1` 陣形時，贏了 36304 場，輸了 54362 場\n"
     ]
    }
   ],
   "source": [
    "result_4_5_1  = dict(collections.Counter(df_new[df_new['t1form_4-5-1'] == 1]['win']))\n",
    "\n",
    "print(f'當第一隊擺出 `4-5-1` 陣形時，贏了 {result_4_5_1[1]} 場，輸了 {result_4_5_1[0]} 場')\n",
    "\n",
    "result_3_6_1  = dict(collections.Counter(df_new[df_new['t1form_3-6-1'] == 1]['win']))\n",
    "\n",
    "print(f'當第一隊擺出 `3-6-1` 陣形時，贏了 {result_3_6_1[1]} 場，輸了 {result_3_6_1[0]} 場')"
   ]
  },
  {
   "cell_type": "markdown",
   "metadata": {},
   "source": [
    "### 在這份資料集裡，擺上前鋒是王道啊！\n",
    "\n",
    "### 好的守門員，讓你無後顧之憂"
   ]
  },
  {
   "cell_type": "markdown",
   "metadata": {},
   "source": [
    "### 資料觀察：當兩隊限制在同一陣形時，每個位置球員重要性是否有差異？"
   ]
  },
  {
   "cell_type": "code",
   "execution_count": 181,
   "metadata": {},
   "outputs": [],
   "source": [
    "form_type = '4-3-3'\n",
    "\n",
    "df_forward = df_new[(df_new['t1form_'+form_type]==1) & (df_new['t2form_'+form_type]==1)][['p0', 'p1', 'p2', 'p3', 'p4', 'p5', 'p6', 'p7', 'p8', 'p9', 'p10', 'p11', 'p12', 'p13', 'win']]"
   ]
  },
  {
   "cell_type": "code",
   "execution_count": 65,
   "metadata": {},
   "outputs": [
    {
     "data": {
      "text/plain": [
       "<matplotlib.axes._subplots.AxesSubplot at 0x7f14963d1b70>"
      ]
     },
     "execution_count": 65,
     "metadata": {},
     "output_type": "execute_result"
    },
    {
     "data": {
      "image/png": "[encoded data removed]",
      "text/plain": [
       "<Figure size 432x288 with 1 Axes>"
      ]
     },
     "metadata": {},
     "output_type": "display_data"
    }
   ],
   "source": [
    "corr = df_forward.corr()\n",
    "corr[['win']].drop(['win'],axis=0).plot()"
   ]
  },
  {
   "cell_type": "code",
   "execution_count": 95,
   "metadata": {},
   "outputs": [],
   "source": [
    "form_type = '4-3-2-1'  ## 聖誕樹陣型\n",
    "\n",
    "df_guard = df_new[(df_new['t1form_'+form_type]==1) & (df_new['t2form_'+form_type]==1)][['p0', 'p1', 'p2', 'p3', 'p4', 'p5', 'p6', 'p7', 'p8', 'p9', 'p10', 'p11', 'p12', 'p13', 'win']]"
   ]
  },
  {
   "cell_type": "code",
   "execution_count": 96,
   "metadata": {},
   "outputs": [
    {
     "data": {
      "text/plain": [
       "<matplotlib.axes._subplots.AxesSubplot at 0x7f1495f08780>"
      ]
     },
     "execution_count": 96,
     "metadata": {},
     "output_type": "execute_result"
    },
    {
     "data": {
      "image/png": "[encoded data removed]",
      "text/plain": [
       "<Figure size 432x288 with 1 Axes>"
      ]
     },
     "metadata": {},
     "output_type": "display_data"
    }
   ],
   "source": [
    "corr = df_guard.corr()\n",
    "corr[['win']].drop(['win'],axis=0).plot()"
   ]
  },
  {
   "cell_type": "code",
   "execution_count": 105,
   "metadata": {},
   "outputs": [],
   "source": [
    "form_type = '3-5-2'\n",
    "\n",
    "df_guard = df_new[(df_new['t1form_'+form_type]==1) & (df_new['t2form_'+form_type]==1)][['p0', 'p1', 'p2', 'p3', 'p4', 'p5', 'p6', 'p7', 'p8', 'p9', 'p10', 'p11', 'p12', 'p13', 'win']]"
   ]
  },
  {
   "cell_type": "code",
   "execution_count": 106,
   "metadata": {},
   "outputs": [
    {
     "data": {
      "text/plain": [
       "<matplotlib.axes._subplots.AxesSubplot at 0x7f1495bd3358>"
      ]
     },
     "execution_count": 106,
     "metadata": {},
     "output_type": "execute_result"
    },
    {
     "data": {
      "image/png": "[encoded data removed]",
      "text/plain": [
       "<Figure size 432x288 with 1 Axes>"
      ]
     },
     "metadata": {},
     "output_type": "display_data"
    }
   ],
   "source": [
    "corr = df_guard.corr()\n",
    "corr[['win']].drop(['win'],axis=0).plot()"
   ]
  },
  {
   "cell_type": "markdown",
   "metadata": {},
   "source": [
    "### 已經知道欄位意義了，為了簡化資料，先把同位置合併"
   ]
  },
  {
   "cell_type": "code",
   "execution_count": 182,
   "metadata": {},
   "outputs": [],
   "source": [
    "df_group = pd.DataFrame()\n",
    "\n",
    "df_group['t1_f'] = (df['t1p0'] + df['t1p1'] + df['t1p2']) / 3\n",
    "df_group['t1_c'] = (df['t1p3'] + df['t1p4'] + df['t1p5'] + df['t1p6'] + df['t1p7']) / 5\n",
    "df_group['t1_g'] = (df['t1p8'] + df['t1p9'] + df['t1p10'] + df['t1p11'] + df['t1p12']) / 5\n",
    "df_group['t1_k'] = df['t1p13']\n",
    "\n",
    "df_group['t2_f'] = (df['t2p0'] + df['t2p1'] + df['t2p2']) / 3\n",
    "df_group['t2_c'] = (df['t2p3'] + df['t2p4'] + df['t2p5'] + df['t2p6'] + df['t2p7']) / 5\n",
    "df_group['t2_g'] = (df['t2p8'] + df['t2p9'] + df['t2p10'] + df['t2p11'] + df['t2p12']) / 5\n",
    "df_group['t2_k'] = df['t2p13']\n",
    "\n",
    "df_group['win'] = df_new['win']\n",
    "\n",
    "positions = ['t1_f', 't1_c', 't1_g', 't1_k', 't2_f', 't2_c', 't2_g', 't2_k']\n",
    "#df_group[positions] = df_group[positions].apply(lambda x:(x-x.min()) / (x.max() - x.min()))"
   ]
  },
  {
   "cell_type": "code",
   "execution_count": 183,
   "metadata": {},
   "outputs": [],
   "source": [
    "X = df_group[positions].values\n",
    "y = df_group[['win']].values"
   ]
  },
  {
   "cell_type": "code",
   "execution_count": 184,
   "metadata": {},
   "outputs": [],
   "source": [
    "X_train, X_test, y_train, y_test = \\\n",
    "    train_test_split(X, y, test_size=0.3)\n",
    "\n",
    "model_position = XGBClassifier(nthread=-1)\n",
    "model_position.fit(X_train, y_train)\n",
    "test_pred = model_position.predict(X_test)"
   ]
  },
  {
   "cell_type": "markdown",
   "metadata": {},
   "source": [
    "### 欄位減少，準確率甚至還比原本好一點"
   ]
  },
  {
   "cell_type": "code",
   "execution_count": 185,
   "metadata": {},
   "outputs": [
    {
     "name": "stdout",
     "output_type": "stream",
     "text": [
      "準確率: 0.6572233333333334\n"
     ]
    }
   ],
   "source": [
    "acc = metrics.accuracy_score(y_test, test_pred)\n",
    "print('準確率:', acc)"
   ]
  },
  {
   "cell_type": "markdown",
   "metadata": {},
   "source": [
    "## 來預測對戰勝負遊吧！"
   ]
  },
  {
   "cell_type": "code",
   "execution_count": 194,
   "metadata": {},
   "outputs": [
    {
     "name": "stdout",
     "output_type": "stream",
     "text": [
      "比賽結果：team1 獲勝！獲勝機率是：0.9188937544822693\n"
     ]
    }
   ],
   "source": [
    "team_1 = {'f': 17.27, 'c': 6.76, 'g': 7.34, 'k': 10.0}\n",
    "team_2 = {'f': 2.27, 'c': 6.76, 'g': 3.34, 'k': 1.0}\n",
    "position = ['f', 'c', 'g', 'k']\n",
    "\n",
    "def predict(team_1, team_2):\n",
    "    feature = [None] * 8\n",
    "    for idx, pos in enumerate(position):\n",
    "        feature[idx] = team_1[position[idx]]\n",
    "        feature[idx+4] = team_2[position[idx]]\n",
    "        \n",
    "    result = model_position.predict_proba(np.asarray(feature).reshape(1, 8))[0]\n",
    "    win_team = 1\n",
    "    if result[0] > result[1]:\n",
    "        win_team = 2\n",
    "    \n",
    "    print(f'比賽結果：team{win_team} 獲勝！獲勝機率是：{result[1]}')\n",
    "        \n",
    "predict(team_1, team_2)"
   ]
  },
  {
   "cell_type": "markdown",
   "metadata": {},
   "source": [
    "## 25 分鐘想一個優化的方式，建立一個自創的模型\n",
    "\n",
    "* 創造一個新的欄位，再做訓練，並觀察結果\n",
    "* 你有辦法預測勝分差嗎？(是哪一種問題？分類、迴歸、聚類)\n",
    "    * 參考範例：https://scikit-learn.org/stable/modules/generated/sklearn.linear_model.LinearRegression.html\n",
    "* 模擬4個球隊數據，打一個小小世界盃，並觀察對戰順序改變，結果是否不同？"
   ]
  },
  {
   "cell_type": "code",
   "execution_count": null,
   "metadata": {},
   "outputs": [],
   "source": []
  }
 ],
 "metadata": {
  "kernelspec": {
   "display_name": "conda_python3",
   "language": "python",
   "name": "conda_python3"
  },
  "language_info": {
   "codemirror_mode": {
    "name": "ipython",
    "version": 3
   },
   "file_extension": ".py",
   "mimetype": "text/x-python",
   "name": "python",
   "nbconvert_exporter": "python",
   "pygments_lexer": "ipython3",
   "version": "3.6.5"
  }
 },
 "nbformat": 4,
 "nbformat_minor": 2
}
